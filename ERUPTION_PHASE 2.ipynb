{
 "cells": [
  {
   "cell_type": "markdown",
   "id": "fc9281f1-70b2-4c24-8546-e8c4b380262d",
   "metadata": {},
   "source": [
    "##  <p style=\"text-align:center; color:red; font-size:24px; font-weight:bold;\"> ERUPTION_CLASSIFICATION</p>"
   ]
  },
  {
   "cell_type": "markdown",
   "id": "e7d12e67-4034-4c4f-9296-cb0fed05a301",
   "metadata": {},
   "source": [
    "## Objective\n",
    "\n",
    "The objective is to build a machine learning model that predicts the eruption_category of a volcanic event based on other features in the dataset. For instance, given details like the volcano's location, start date, and other characteristics, the model will classify whether the eruption is Confirmed or some other category."
   ]
  },
  {
   "cell_type": "markdown",
   "id": "d5fc4cb8-52d9-454b-b0bc-9db2ee527bcc",
   "metadata": {},
   "source": [
    "##  <h4 style=\"color:blue;\"> Import Libraries And Load Data</h4>"
   ]
  },
  {
   "cell_type": "code",
   "execution_count": 1,
   "id": "bb0eff9c-78f8-4c47-b310-f7f6b06dea48",
   "metadata": {},
   "outputs": [],
   "source": [
    "import numpy as np\n",
    "import pandas as pd\n",
    "import seaborn as sns\n",
    "import matplotlib.pyplot as plt\n",
    "from sklearn.preprocessing import LabelEncoder,OneHotEncoder,StandardScaler,PowerTransformer\n",
    "from sklearn.feature_selection import SelectKBest,f_classif\n",
    "from sklearn.model_selection import train_test_split,RandomizedSearchCV, GridSearchCV\n",
    "from sklearn.linear_model import LogisticRegression\n",
    "from sklearn.svm import SVC\n",
    "from sklearn.ensemble import RandomForestClassifier,GradientBoostingClassifier,AdaBoostClassifier\n",
    "from sklearn.naive_bayes import GaussianNB\n",
    "from sklearn.tree import DecisionTreeClassifier\n",
    "from sklearn.metrics import accuracy_score,precision_score,f1_score,classification_report,confusion_matrix\n",
    "import warnings\n",
    "warnings.filterwarnings('ignore')"
   ]
  },
  {
   "cell_type": "code",
   "execution_count": 2,
   "id": "2fbf7e76-1703-4621-aff2-cac72aeaeaf3",
   "metadata": {},
   "outputs": [],
   "source": [
    "data = pd.read_csv(\"eruptions.csv\")"
   ]
  },
  {
   "cell_type": "code",
   "execution_count": 3,
   "id": "17735ea2-68f3-4b61-823d-38e2bf1d587d",
   "metadata": {},
   "outputs": [],
   "source": [
    "df = pd.DataFrame(data)"
   ]
  },
  {
   "cell_type": "code",
   "execution_count": 4,
   "id": "085acb25-152a-4177-8a0c-c78bf42dce14",
   "metadata": {},
   "outputs": [
    {
     "data": {
      "text/html": [
       "<div>\n",
       "<style scoped>\n",
       "    .dataframe tbody tr th:only-of-type {\n",
       "        vertical-align: middle;\n",
       "    }\n",
       "\n",
       "    .dataframe tbody tr th {\n",
       "        vertical-align: top;\n",
       "    }\n",
       "\n",
       "    .dataframe thead th {\n",
       "        text-align: right;\n",
       "    }\n",
       "</style>\n",
       "<table border=\"1\" class=\"dataframe\">\n",
       "  <thead>\n",
       "    <tr style=\"text-align: right;\">\n",
       "      <th></th>\n",
       "      <th>volcano_number</th>\n",
       "      <th>volcano_name</th>\n",
       "      <th>eruption_number</th>\n",
       "      <th>eruption_category</th>\n",
       "      <th>area_of_activity</th>\n",
       "      <th>vei</th>\n",
       "      <th>start_year</th>\n",
       "      <th>start_month</th>\n",
       "      <th>start_day</th>\n",
       "      <th>evidence_method_dating</th>\n",
       "      <th>end_year</th>\n",
       "      <th>end_month</th>\n",
       "      <th>end_day</th>\n",
       "      <th>latitude</th>\n",
       "      <th>longitude</th>\n",
       "    </tr>\n",
       "  </thead>\n",
       "  <tbody>\n",
       "    <tr>\n",
       "      <th>0</th>\n",
       "      <td>266030</td>\n",
       "      <td>Soputan</td>\n",
       "      <td>22354</td>\n",
       "      <td>Confirmed Eruption</td>\n",
       "      <td>NaN</td>\n",
       "      <td>NaN</td>\n",
       "      <td>2020.0</td>\n",
       "      <td>3.0</td>\n",
       "      <td>23.0</td>\n",
       "      <td>Historical Observations</td>\n",
       "      <td>2020.0</td>\n",
       "      <td>4.0</td>\n",
       "      <td>2.0</td>\n",
       "      <td>1.112</td>\n",
       "      <td>124.737</td>\n",
       "    </tr>\n",
       "    <tr>\n",
       "      <th>1</th>\n",
       "      <td>343100</td>\n",
       "      <td>San Miguel</td>\n",
       "      <td>22355</td>\n",
       "      <td>Confirmed Eruption</td>\n",
       "      <td>NaN</td>\n",
       "      <td>NaN</td>\n",
       "      <td>2020.0</td>\n",
       "      <td>2.0</td>\n",
       "      <td>22.0</td>\n",
       "      <td>Historical Observations</td>\n",
       "      <td>2020.0</td>\n",
       "      <td>2.0</td>\n",
       "      <td>22.0</td>\n",
       "      <td>13.434</td>\n",
       "      <td>-88.269</td>\n",
       "    </tr>\n",
       "    <tr>\n",
       "      <th>2</th>\n",
       "      <td>233020</td>\n",
       "      <td>Fournaise, Piton de la</td>\n",
       "      <td>22343</td>\n",
       "      <td>Confirmed Eruption</td>\n",
       "      <td>NaN</td>\n",
       "      <td>NaN</td>\n",
       "      <td>2020.0</td>\n",
       "      <td>2.0</td>\n",
       "      <td>10.0</td>\n",
       "      <td>Historical Observations</td>\n",
       "      <td>2020.0</td>\n",
       "      <td>4.0</td>\n",
       "      <td>6.0</td>\n",
       "      <td>-21.244</td>\n",
       "      <td>55.708</td>\n",
       "    </tr>\n",
       "    <tr>\n",
       "      <th>3</th>\n",
       "      <td>345020</td>\n",
       "      <td>Rincon de la Vieja</td>\n",
       "      <td>22346</td>\n",
       "      <td>Confirmed Eruption</td>\n",
       "      <td>NaN</td>\n",
       "      <td>NaN</td>\n",
       "      <td>2020.0</td>\n",
       "      <td>1.0</td>\n",
       "      <td>31.0</td>\n",
       "      <td>Historical Observations</td>\n",
       "      <td>2020.0</td>\n",
       "      <td>4.0</td>\n",
       "      <td>17.0</td>\n",
       "      <td>10.830</td>\n",
       "      <td>-85.324</td>\n",
       "    </tr>\n",
       "    <tr>\n",
       "      <th>4</th>\n",
       "      <td>353010</td>\n",
       "      <td>Fernandina</td>\n",
       "      <td>22347</td>\n",
       "      <td>Confirmed Eruption</td>\n",
       "      <td>NaN</td>\n",
       "      <td>NaN</td>\n",
       "      <td>2020.0</td>\n",
       "      <td>1.0</td>\n",
       "      <td>12.0</td>\n",
       "      <td>Historical Observations</td>\n",
       "      <td>2020.0</td>\n",
       "      <td>1.0</td>\n",
       "      <td>12.0</td>\n",
       "      <td>-0.370</td>\n",
       "      <td>-91.550</td>\n",
       "    </tr>\n",
       "  </tbody>\n",
       "</table>\n",
       "</div>"
      ],
      "text/plain": [
       "   volcano_number            volcano_name  eruption_number  \\\n",
       "0          266030                 Soputan            22354   \n",
       "1          343100              San Miguel            22355   \n",
       "2          233020  Fournaise, Piton de la            22343   \n",
       "3          345020      Rincon de la Vieja            22346   \n",
       "4          353010              Fernandina            22347   \n",
       "\n",
       "    eruption_category area_of_activity  vei  start_year  start_month  \\\n",
       "0  Confirmed Eruption              NaN  NaN      2020.0          3.0   \n",
       "1  Confirmed Eruption              NaN  NaN      2020.0          2.0   \n",
       "2  Confirmed Eruption              NaN  NaN      2020.0          2.0   \n",
       "3  Confirmed Eruption              NaN  NaN      2020.0          1.0   \n",
       "4  Confirmed Eruption              NaN  NaN      2020.0          1.0   \n",
       "\n",
       "   start_day   evidence_method_dating  end_year  end_month  end_day  latitude  \\\n",
       "0       23.0  Historical Observations    2020.0        4.0      2.0     1.112   \n",
       "1       22.0  Historical Observations    2020.0        2.0     22.0    13.434   \n",
       "2       10.0  Historical Observations    2020.0        4.0      6.0   -21.244   \n",
       "3       31.0  Historical Observations    2020.0        4.0     17.0    10.830   \n",
       "4       12.0  Historical Observations    2020.0        1.0     12.0    -0.370   \n",
       "\n",
       "   longitude  \n",
       "0    124.737  \n",
       "1    -88.269  \n",
       "2     55.708  \n",
       "3    -85.324  \n",
       "4    -91.550  "
      ]
     },
     "execution_count": 4,
     "metadata": {},
     "output_type": "execute_result"
    }
   ],
   "source": [
    "df.head()"
   ]
  },
  {
   "cell_type": "code",
   "execution_count": 5,
   "id": "b5ddad32-3c4d-4a4b-b578-6cce5d4337bd",
   "metadata": {},
   "outputs": [
    {
     "data": {
      "text/html": [
       "<div>\n",
       "<style scoped>\n",
       "    .dataframe tbody tr th:only-of-type {\n",
       "        vertical-align: middle;\n",
       "    }\n",
       "\n",
       "    .dataframe tbody tr th {\n",
       "        vertical-align: top;\n",
       "    }\n",
       "\n",
       "    .dataframe thead th {\n",
       "        text-align: right;\n",
       "    }\n",
       "</style>\n",
       "<table border=\"1\" class=\"dataframe\">\n",
       "  <thead>\n",
       "    <tr style=\"text-align: right;\">\n",
       "      <th></th>\n",
       "      <th>volcano_number</th>\n",
       "      <th>volcano_name</th>\n",
       "      <th>eruption_number</th>\n",
       "      <th>eruption_category</th>\n",
       "      <th>area_of_activity</th>\n",
       "      <th>vei</th>\n",
       "      <th>start_year</th>\n",
       "      <th>start_month</th>\n",
       "      <th>start_day</th>\n",
       "      <th>evidence_method_dating</th>\n",
       "      <th>end_year</th>\n",
       "      <th>end_month</th>\n",
       "      <th>end_day</th>\n",
       "      <th>latitude</th>\n",
       "      <th>longitude</th>\n",
       "    </tr>\n",
       "  </thead>\n",
       "  <tbody>\n",
       "    <tr>\n",
       "      <th>11173</th>\n",
       "      <td>324020</td>\n",
       "      <td>Craters of the Moon</td>\n",
       "      <td>21101</td>\n",
       "      <td>Confirmed Eruption</td>\n",
       "      <td>Sunset cone</td>\n",
       "      <td>0.0</td>\n",
       "      <td>-10060.0</td>\n",
       "      <td>NaN</td>\n",
       "      <td>NaN</td>\n",
       "      <td>Radiocarbon (uncorrected)</td>\n",
       "      <td>NaN</td>\n",
       "      <td>NaN</td>\n",
       "      <td>NaN</td>\n",
       "      <td>43.420</td>\n",
       "      <td>-113.500</td>\n",
       "    </tr>\n",
       "    <tr>\n",
       "      <th>11174</th>\n",
       "      <td>222161</td>\n",
       "      <td>Igwisi Hills</td>\n",
       "      <td>22141</td>\n",
       "      <td>Confirmed Eruption</td>\n",
       "      <td>NE Volcano</td>\n",
       "      <td>1.0</td>\n",
       "      <td>-10450.0</td>\n",
       "      <td>NaN</td>\n",
       "      <td>NaN</td>\n",
       "      <td>Surface Exposure</td>\n",
       "      <td>NaN</td>\n",
       "      <td>NaN</td>\n",
       "      <td>NaN</td>\n",
       "      <td>-4.889</td>\n",
       "      <td>31.933</td>\n",
       "    </tr>\n",
       "    <tr>\n",
       "      <th>11175</th>\n",
       "      <td>357121</td>\n",
       "      <td>Quetrupillan</td>\n",
       "      <td>22351</td>\n",
       "      <td>Confirmed Eruption</td>\n",
       "      <td>NaN</td>\n",
       "      <td>3.0</td>\n",
       "      <td>-10658.0</td>\n",
       "      <td>NaN</td>\n",
       "      <td>NaN</td>\n",
       "      <td>Radiocarbon (corrected)</td>\n",
       "      <td>NaN</td>\n",
       "      <td>NaN</td>\n",
       "      <td>NaN</td>\n",
       "      <td>-39.496</td>\n",
       "      <td>-71.722</td>\n",
       "    </tr>\n",
       "    <tr>\n",
       "      <th>11176</th>\n",
       "      <td>357121</td>\n",
       "      <td>Quetrupillan</td>\n",
       "      <td>22352</td>\n",
       "      <td>Confirmed Eruption</td>\n",
       "      <td>NaN</td>\n",
       "      <td>3.0</td>\n",
       "      <td>-11345.0</td>\n",
       "      <td>NaN</td>\n",
       "      <td>NaN</td>\n",
       "      <td>Radiocarbon (corrected)</td>\n",
       "      <td>NaN</td>\n",
       "      <td>NaN</td>\n",
       "      <td>NaN</td>\n",
       "      <td>-39.496</td>\n",
       "      <td>-71.722</td>\n",
       "    </tr>\n",
       "    <tr>\n",
       "      <th>11177</th>\n",
       "      <td>390090</td>\n",
       "      <td>Saunders</td>\n",
       "      <td>21099</td>\n",
       "      <td>Confirmed Eruption</td>\n",
       "      <td>NaN</td>\n",
       "      <td>0.0</td>\n",
       "      <td>NaN</td>\n",
       "      <td>NaN</td>\n",
       "      <td>NaN</td>\n",
       "      <td>NaN</td>\n",
       "      <td>NaN</td>\n",
       "      <td>NaN</td>\n",
       "      <td>NaN</td>\n",
       "      <td>-57.800</td>\n",
       "      <td>-26.483</td>\n",
       "    </tr>\n",
       "  </tbody>\n",
       "</table>\n",
       "</div>"
      ],
      "text/plain": [
       "       volcano_number         volcano_name  eruption_number  \\\n",
       "11173          324020  Craters of the Moon            21101   \n",
       "11174          222161         Igwisi Hills            22141   \n",
       "11175          357121         Quetrupillan            22351   \n",
       "11176          357121         Quetrupillan            22352   \n",
       "11177          390090             Saunders            21099   \n",
       "\n",
       "        eruption_category area_of_activity  vei  start_year  start_month  \\\n",
       "11173  Confirmed Eruption      Sunset cone  0.0    -10060.0          NaN   \n",
       "11174  Confirmed Eruption       NE Volcano  1.0    -10450.0          NaN   \n",
       "11175  Confirmed Eruption              NaN  3.0    -10658.0          NaN   \n",
       "11176  Confirmed Eruption              NaN  3.0    -11345.0          NaN   \n",
       "11177  Confirmed Eruption              NaN  0.0         NaN          NaN   \n",
       "\n",
       "       start_day     evidence_method_dating  end_year  end_month  end_day  \\\n",
       "11173        NaN  Radiocarbon (uncorrected)       NaN        NaN      NaN   \n",
       "11174        NaN           Surface Exposure       NaN        NaN      NaN   \n",
       "11175        NaN    Radiocarbon (corrected)       NaN        NaN      NaN   \n",
       "11176        NaN    Radiocarbon (corrected)       NaN        NaN      NaN   \n",
       "11177        NaN                        NaN       NaN        NaN      NaN   \n",
       "\n",
       "       latitude  longitude  \n",
       "11173    43.420   -113.500  \n",
       "11174    -4.889     31.933  \n",
       "11175   -39.496    -71.722  \n",
       "11176   -39.496    -71.722  \n",
       "11177   -57.800    -26.483  "
      ]
     },
     "execution_count": 5,
     "metadata": {},
     "output_type": "execute_result"
    }
   ],
   "source": [
    "df.tail()"
   ]
  },
  {
   "cell_type": "markdown",
   "id": "cb9f3b4e-dc2a-41f3-af28-541a0fd4ecaf",
   "metadata": {},
   "source": [
    "## <h4> Exploratory Data Analysis (EDA) </h4>"
   ]
  },
  {
   "cell_type": "code",
   "execution_count": 6,
   "id": "1cc64c15-9609-489f-8c55-35d91377a354",
   "metadata": {},
   "outputs": [
    {
     "data": {
      "text/plain": [
       "Index(['volcano_number', 'volcano_name', 'eruption_number',\n",
       "       'eruption_category', 'area_of_activity', 'vei', 'start_year',\n",
       "       'start_month', 'start_day', 'evidence_method_dating', 'end_year',\n",
       "       'end_month', 'end_day', 'latitude', 'longitude'],\n",
       "      dtype='object')"
      ]
     },
     "execution_count": 6,
     "metadata": {},
     "output_type": "execute_result"
    }
   ],
   "source": [
    "df.columns"
   ]
  },
  {
   "cell_type": "code",
   "execution_count": 7,
   "id": "215cbd02-4150-44d8-97fc-34444597c248",
   "metadata": {},
   "outputs": [
    {
     "data": {
      "text/plain": [
       "(11178, 15)"
      ]
     },
     "execution_count": 7,
     "metadata": {},
     "output_type": "execute_result"
    }
   ],
   "source": [
    "df.shape"
   ]
  },
  {
   "cell_type": "code",
   "execution_count": 8,
   "id": "8111fa2b-8ec2-4cad-855f-7a9ef90d1c62",
   "metadata": {},
   "outputs": [
    {
     "data": {
      "text/html": [
       "<div>\n",
       "<style scoped>\n",
       "    .dataframe tbody tr th:only-of-type {\n",
       "        vertical-align: middle;\n",
       "    }\n",
       "\n",
       "    .dataframe tbody tr th {\n",
       "        vertical-align: top;\n",
       "    }\n",
       "\n",
       "    .dataframe thead th {\n",
       "        text-align: right;\n",
       "    }\n",
       "</style>\n",
       "<table border=\"1\" class=\"dataframe\">\n",
       "  <thead>\n",
       "    <tr style=\"text-align: right;\">\n",
       "      <th></th>\n",
       "      <th>count</th>\n",
       "      <th>mean</th>\n",
       "      <th>std</th>\n",
       "      <th>min</th>\n",
       "      <th>25%</th>\n",
       "      <th>50%</th>\n",
       "      <th>75%</th>\n",
       "      <th>max</th>\n",
       "    </tr>\n",
       "  </thead>\n",
       "  <tbody>\n",
       "    <tr>\n",
       "      <th>volcano_number</th>\n",
       "      <td>11178.0</td>\n",
       "      <td>300284.371176</td>\n",
       "      <td>52321.193203</td>\n",
       "      <td>210010.00</td>\n",
       "      <td>263310.000</td>\n",
       "      <td>290050.000</td>\n",
       "      <td>343030.000</td>\n",
       "      <td>600000.000</td>\n",
       "    </tr>\n",
       "    <tr>\n",
       "      <th>eruption_number</th>\n",
       "      <td>11178.0</td>\n",
       "      <td>15666.905439</td>\n",
       "      <td>3297.612433</td>\n",
       "      <td>10001.00</td>\n",
       "      <td>12817.250</td>\n",
       "      <td>15650.500</td>\n",
       "      <td>18463.750</td>\n",
       "      <td>22355.000</td>\n",
       "    </tr>\n",
       "    <tr>\n",
       "      <th>vei</th>\n",
       "      <td>8272.0</td>\n",
       "      <td>1.947897</td>\n",
       "      <td>1.161098</td>\n",
       "      <td>0.00</td>\n",
       "      <td>1.000</td>\n",
       "      <td>2.000</td>\n",
       "      <td>2.000</td>\n",
       "      <td>7.000</td>\n",
       "    </tr>\n",
       "    <tr>\n",
       "      <th>start_year</th>\n",
       "      <td>11177.0</td>\n",
       "      <td>622.848260</td>\n",
       "      <td>2482.174317</td>\n",
       "      <td>-11345.00</td>\n",
       "      <td>680.000</td>\n",
       "      <td>1847.000</td>\n",
       "      <td>1950.000</td>\n",
       "      <td>2020.000</td>\n",
       "    </tr>\n",
       "    <tr>\n",
       "      <th>start_month</th>\n",
       "      <td>10985.0</td>\n",
       "      <td>3.450888</td>\n",
       "      <td>4.071419</td>\n",
       "      <td>0.00</td>\n",
       "      <td>0.000</td>\n",
       "      <td>1.000</td>\n",
       "      <td>7.000</td>\n",
       "      <td>12.000</td>\n",
       "    </tr>\n",
       "    <tr>\n",
       "      <th>start_day</th>\n",
       "      <td>10982.0</td>\n",
       "      <td>7.015025</td>\n",
       "      <td>9.645386</td>\n",
       "      <td>0.00</td>\n",
       "      <td>0.000</td>\n",
       "      <td>0.000</td>\n",
       "      <td>15.000</td>\n",
       "      <td>31.000</td>\n",
       "    </tr>\n",
       "    <tr>\n",
       "      <th>end_year</th>\n",
       "      <td>4332.0</td>\n",
       "      <td>1917.326639</td>\n",
       "      <td>157.646408</td>\n",
       "      <td>-475.00</td>\n",
       "      <td>1895.000</td>\n",
       "      <td>1957.000</td>\n",
       "      <td>1992.000</td>\n",
       "      <td>2020.000</td>\n",
       "    </tr>\n",
       "    <tr>\n",
       "      <th>end_month</th>\n",
       "      <td>4329.0</td>\n",
       "      <td>6.220836</td>\n",
       "      <td>3.686128</td>\n",
       "      <td>0.00</td>\n",
       "      <td>3.000</td>\n",
       "      <td>6.000</td>\n",
       "      <td>9.000</td>\n",
       "      <td>12.000</td>\n",
       "    </tr>\n",
       "    <tr>\n",
       "      <th>end_day</th>\n",
       "      <td>4326.0</td>\n",
       "      <td>13.315996</td>\n",
       "      <td>9.831282</td>\n",
       "      <td>0.00</td>\n",
       "      <td>4.000</td>\n",
       "      <td>15.000</td>\n",
       "      <td>21.000</td>\n",
       "      <td>31.000</td>\n",
       "    </tr>\n",
       "    <tr>\n",
       "      <th>latitude</th>\n",
       "      <td>11178.0</td>\n",
       "      <td>16.865778</td>\n",
       "      <td>30.761752</td>\n",
       "      <td>-77.53</td>\n",
       "      <td>-6.102</td>\n",
       "      <td>17.600</td>\n",
       "      <td>40.821</td>\n",
       "      <td>85.608</td>\n",
       "    </tr>\n",
       "    <tr>\n",
       "      <th>longitude</th>\n",
       "      <td>11178.0</td>\n",
       "      <td>31.572377</td>\n",
       "      <td>115.248384</td>\n",
       "      <td>-179.97</td>\n",
       "      <td>-77.656</td>\n",
       "      <td>55.708</td>\n",
       "      <td>139.394</td>\n",
       "      <td>179.580</td>\n",
       "    </tr>\n",
       "  </tbody>\n",
       "</table>\n",
       "</div>"
      ],
      "text/plain": [
       "                   count           mean           std        min         25%  \\\n",
       "volcano_number   11178.0  300284.371176  52321.193203  210010.00  263310.000   \n",
       "eruption_number  11178.0   15666.905439   3297.612433   10001.00   12817.250   \n",
       "vei               8272.0       1.947897      1.161098       0.00       1.000   \n",
       "start_year       11177.0     622.848260   2482.174317  -11345.00     680.000   \n",
       "start_month      10985.0       3.450888      4.071419       0.00       0.000   \n",
       "start_day        10982.0       7.015025      9.645386       0.00       0.000   \n",
       "end_year          4332.0    1917.326639    157.646408    -475.00    1895.000   \n",
       "end_month         4329.0       6.220836      3.686128       0.00       3.000   \n",
       "end_day           4326.0      13.315996      9.831282       0.00       4.000   \n",
       "latitude         11178.0      16.865778     30.761752     -77.53      -6.102   \n",
       "longitude        11178.0      31.572377    115.248384    -179.97     -77.656   \n",
       "\n",
       "                        50%         75%         max  \n",
       "volcano_number   290050.000  343030.000  600000.000  \n",
       "eruption_number   15650.500   18463.750   22355.000  \n",
       "vei                   2.000       2.000       7.000  \n",
       "start_year         1847.000    1950.000    2020.000  \n",
       "start_month           1.000       7.000      12.000  \n",
       "start_day             0.000      15.000      31.000  \n",
       "end_year           1957.000    1992.000    2020.000  \n",
       "end_month             6.000       9.000      12.000  \n",
       "end_day              15.000      21.000      31.000  \n",
       "latitude             17.600      40.821      85.608  \n",
       "longitude            55.708     139.394     179.580  "
      ]
     },
     "execution_count": 8,
     "metadata": {},
     "output_type": "execute_result"
    }
   ],
   "source": [
    "df.describe().T"
   ]
  },
  {
   "cell_type": "code",
   "execution_count": 9,
   "id": "23daa179-587f-436a-9089-283e59783b43",
   "metadata": {},
   "outputs": [
    {
     "name": "stdout",
     "output_type": "stream",
     "text": [
      "<class 'pandas.core.frame.DataFrame'>\n",
      "RangeIndex: 11178 entries, 0 to 11177\n",
      "Data columns (total 15 columns):\n",
      " #   Column                  Non-Null Count  Dtype  \n",
      "---  ------                  --------------  -----  \n",
      " 0   volcano_number          11178 non-null  int64  \n",
      " 1   volcano_name            11178 non-null  object \n",
      " 2   eruption_number         11178 non-null  int64  \n",
      " 3   eruption_category       11178 non-null  object \n",
      " 4   area_of_activity        4694 non-null   object \n",
      " 5   vei                     8272 non-null   float64\n",
      " 6   start_year              11177 non-null  float64\n",
      " 7   start_month             10985 non-null  float64\n",
      " 8   start_day               10982 non-null  float64\n",
      " 9   evidence_method_dating  9898 non-null   object \n",
      " 10  end_year                4332 non-null   float64\n",
      " 11  end_month               4329 non-null   float64\n",
      " 12  end_day                 4326 non-null   float64\n",
      " 13  latitude                11178 non-null  float64\n",
      " 14  longitude               11178 non-null  float64\n",
      "dtypes: float64(9), int64(2), object(4)\n",
      "memory usage: 1.3+ MB\n"
     ]
    }
   ],
   "source": [
    "df.info()"
   ]
  },
  {
   "cell_type": "code",
   "execution_count": 10,
   "id": "d7280f32-2ba6-4b7f-8199-dd2cc6d5bfd9",
   "metadata": {},
   "outputs": [
    {
     "data": {
      "text/plain": [
       "volcano_number              int64\n",
       "volcano_name               object\n",
       "eruption_number             int64\n",
       "eruption_category          object\n",
       "area_of_activity           object\n",
       "vei                       float64\n",
       "start_year                float64\n",
       "start_month               float64\n",
       "start_day                 float64\n",
       "evidence_method_dating     object\n",
       "end_year                  float64\n",
       "end_month                 float64\n",
       "end_day                   float64\n",
       "latitude                  float64\n",
       "longitude                 float64\n",
       "dtype: object"
      ]
     },
     "execution_count": 10,
     "metadata": {},
     "output_type": "execute_result"
    }
   ],
   "source": [
    "df.dtypes"
   ]
  },
  {
   "cell_type": "code",
   "execution_count": 11,
   "id": "f965d877-94d7-4c87-8f5f-145724e70cbe",
   "metadata": {},
   "outputs": [
    {
     "data": {
      "text/plain": [
       "volcano_number               0\n",
       "volcano_name                 0\n",
       "eruption_number              0\n",
       "eruption_category            0\n",
       "area_of_activity          6484\n",
       "vei                       2906\n",
       "start_year                   1\n",
       "start_month                193\n",
       "start_day                  196\n",
       "evidence_method_dating    1280\n",
       "end_year                  6846\n",
       "end_month                 6849\n",
       "end_day                   6852\n",
       "latitude                     0\n",
       "longitude                    0\n",
       "dtype: int64"
      ]
     },
     "execution_count": 11,
     "metadata": {},
     "output_type": "execute_result"
    }
   ],
   "source": [
    "df.isnull().sum()"
   ]
  },
  {
   "cell_type": "markdown",
   "id": "d5a14bdd-7220-4604-a2e5-70e833442f57",
   "metadata": {},
   "source": [
    "## <h4 style=\"color:green;\">Droping columns and filling mising values</h4>"
   ]
  },
  {
   "cell_type": "code",
   "execution_count": 12,
   "id": "015ffed7-e532-4ec7-b575-c1e6588d36ce",
   "metadata": {},
   "outputs": [],
   "source": [
    "# Drop columns with excessive missing data\n",
    "df1 = df.drop(columns=['area_of_activity', 'end_year', 'end_month', 'end_day'])\n",
    "\n",
    "# Impute missing values for VEI with the median\n",
    "df1['vei'] = df1['vei'].fillna(df1['vei'].median())\n",
    "\n",
    "# Impute start_month and start_day with the mode\n",
    "df1['start_month'] = df1['start_month'].fillna(df1['start_month'].mode()[0])\n",
    "df1['start_day'] = df1['start_day'].fillna(df1['start_day'].mode()[0])\n",
    "\n",
    "# Impute evidence_method_dating with the mode\n",
    "df1['evidence_method_dating'] = df1['evidence_method_dating'].fillna(df1['evidence_method_dating'].mode()[0])\n",
    "\n",
    "# Drop rows with remaining missing values\n",
    "df1 = df1.dropna()\n"
   ]
  },
  {
   "cell_type": "code",
   "execution_count": 13,
   "id": "04a85104-1122-402a-b6e9-4b0edba39854",
   "metadata": {},
   "outputs": [
    {
     "data": {
      "text/plain": [
       "volcano_number            0\n",
       "volcano_name              0\n",
       "eruption_number           0\n",
       "eruption_category         0\n",
       "vei                       0\n",
       "start_year                0\n",
       "start_month               0\n",
       "start_day                 0\n",
       "evidence_method_dating    0\n",
       "latitude                  0\n",
       "longitude                 0\n",
       "dtype: int64"
      ]
     },
     "execution_count": 13,
     "metadata": {},
     "output_type": "execute_result"
    }
   ],
   "source": [
    "df1.isnull().sum()"
   ]
  },
  {
   "cell_type": "code",
   "execution_count": 14,
   "id": "3f0aa403-ad16-43ac-bafa-d4cfa8f77005",
   "metadata": {},
   "outputs": [
    {
     "data": {
      "text/plain": [
       "0"
      ]
     },
     "execution_count": 14,
     "metadata": {},
     "output_type": "execute_result"
    }
   ],
   "source": [
    "df1.duplicated().sum()"
   ]
  },
  {
   "cell_type": "markdown",
   "id": "128fff12-ec40-4870-9413-c9e9c082b0ba",
   "metadata": {},
   "source": [
    "## <h2 style=\"color:red;\">Dividing df into categorical and numerical columns </h2>"
   ]
  },
  {
   "cell_type": "markdown",
   "id": "5095fcf1-8e10-44ee-a608-538a732dcb18",
   "metadata": {},
   "source": [
    "## <h4> Categorical columns as cat_cols </h4>"
   ]
  },
  {
   "cell_type": "code",
   "execution_count": 15,
   "id": "b3263bc6-8613-46c5-8d3e-97e1ca5de771",
   "metadata": {},
   "outputs": [
    {
     "data": {
      "text/html": [
       "<div>\n",
       "<style scoped>\n",
       "    .dataframe tbody tr th:only-of-type {\n",
       "        vertical-align: middle;\n",
       "    }\n",
       "\n",
       "    .dataframe tbody tr th {\n",
       "        vertical-align: top;\n",
       "    }\n",
       "\n",
       "    .dataframe thead th {\n",
       "        text-align: right;\n",
       "    }\n",
       "</style>\n",
       "<table border=\"1\" class=\"dataframe\">\n",
       "  <thead>\n",
       "    <tr style=\"text-align: right;\">\n",
       "      <th></th>\n",
       "      <th>volcano_name</th>\n",
       "      <th>eruption_category</th>\n",
       "      <th>evidence_method_dating</th>\n",
       "    </tr>\n",
       "  </thead>\n",
       "  <tbody>\n",
       "    <tr>\n",
       "      <th>0</th>\n",
       "      <td>Soputan</td>\n",
       "      <td>Confirmed Eruption</td>\n",
       "      <td>Historical Observations</td>\n",
       "    </tr>\n",
       "    <tr>\n",
       "      <th>1</th>\n",
       "      <td>San Miguel</td>\n",
       "      <td>Confirmed Eruption</td>\n",
       "      <td>Historical Observations</td>\n",
       "    </tr>\n",
       "    <tr>\n",
       "      <th>2</th>\n",
       "      <td>Fournaise, Piton de la</td>\n",
       "      <td>Confirmed Eruption</td>\n",
       "      <td>Historical Observations</td>\n",
       "    </tr>\n",
       "    <tr>\n",
       "      <th>3</th>\n",
       "      <td>Rincon de la Vieja</td>\n",
       "      <td>Confirmed Eruption</td>\n",
       "      <td>Historical Observations</td>\n",
       "    </tr>\n",
       "    <tr>\n",
       "      <th>4</th>\n",
       "      <td>Fernandina</td>\n",
       "      <td>Confirmed Eruption</td>\n",
       "      <td>Historical Observations</td>\n",
       "    </tr>\n",
       "    <tr>\n",
       "      <th>...</th>\n",
       "      <td>...</td>\n",
       "      <td>...</td>\n",
       "      <td>...</td>\n",
       "    </tr>\n",
       "    <tr>\n",
       "      <th>11172</th>\n",
       "      <td>Nemrut Dagi</td>\n",
       "      <td>Confirmed Eruption</td>\n",
       "      <td>Varve Count</td>\n",
       "    </tr>\n",
       "    <tr>\n",
       "      <th>11173</th>\n",
       "      <td>Craters of the Moon</td>\n",
       "      <td>Confirmed Eruption</td>\n",
       "      <td>Radiocarbon (uncorrected)</td>\n",
       "    </tr>\n",
       "    <tr>\n",
       "      <th>11174</th>\n",
       "      <td>Igwisi Hills</td>\n",
       "      <td>Confirmed Eruption</td>\n",
       "      <td>Surface Exposure</td>\n",
       "    </tr>\n",
       "    <tr>\n",
       "      <th>11175</th>\n",
       "      <td>Quetrupillan</td>\n",
       "      <td>Confirmed Eruption</td>\n",
       "      <td>Radiocarbon (corrected)</td>\n",
       "    </tr>\n",
       "    <tr>\n",
       "      <th>11176</th>\n",
       "      <td>Quetrupillan</td>\n",
       "      <td>Confirmed Eruption</td>\n",
       "      <td>Radiocarbon (corrected)</td>\n",
       "    </tr>\n",
       "  </tbody>\n",
       "</table>\n",
       "<p>11177 rows × 3 columns</p>\n",
       "</div>"
      ],
      "text/plain": [
       "                 volcano_name   eruption_category     evidence_method_dating\n",
       "0                     Soputan  Confirmed Eruption    Historical Observations\n",
       "1                  San Miguel  Confirmed Eruption    Historical Observations\n",
       "2      Fournaise, Piton de la  Confirmed Eruption    Historical Observations\n",
       "3          Rincon de la Vieja  Confirmed Eruption    Historical Observations\n",
       "4                  Fernandina  Confirmed Eruption    Historical Observations\n",
       "...                       ...                 ...                        ...\n",
       "11172             Nemrut Dagi  Confirmed Eruption                Varve Count\n",
       "11173     Craters of the Moon  Confirmed Eruption  Radiocarbon (uncorrected)\n",
       "11174            Igwisi Hills  Confirmed Eruption           Surface Exposure\n",
       "11175            Quetrupillan  Confirmed Eruption    Radiocarbon (corrected)\n",
       "11176            Quetrupillan  Confirmed Eruption    Radiocarbon (corrected)\n",
       "\n",
       "[11177 rows x 3 columns]"
      ]
     },
     "execution_count": 15,
     "metadata": {},
     "output_type": "execute_result"
    }
   ],
   "source": [
    "cat_cols=df1.select_dtypes(include=\"object\")\n",
    "cat_cols"
   ]
  },
  {
   "cell_type": "code",
   "execution_count": 16,
   "id": "0e83efaa-a834-4ccd-9a5c-f795ff08fda6",
   "metadata": {},
   "outputs": [],
   "source": [
    "target_value_count = df1[\"eruption_category\"].value_counts()"
   ]
  },
  {
   "cell_type": "code",
   "execution_count": 17,
   "id": "6fac77d3-7c9a-4eea-ac09-387138079212",
   "metadata": {},
   "outputs": [
    {
     "data": {
      "text/plain": [
       "eruption_category\n",
       "Confirmed Eruption      9899\n",
       "Uncertain Eruption      1112\n",
       "Discredited Eruption     166\n",
       "Name: count, dtype: int64"
      ]
     },
     "execution_count": 17,
     "metadata": {},
     "output_type": "execute_result"
    }
   ],
   "source": [
    "target_value_count"
   ]
  },
  {
   "cell_type": "code",
   "execution_count": 18,
   "id": "2f4f3998-7544-4427-9f70-f80feca3d6ce",
   "metadata": {},
   "outputs": [
    {
     "data": {
      "image/png": "[encoded data removed]",
      "text/plain": [
       "<Figure size 640x480 with 1 Axes>"
      ]
     },
     "metadata": {},
     "output_type": "display_data"
    }
   ],
   "source": [
    "# Plot distribution of the target variable\n",
    "sns.countplot(data=df1, x='eruption_category')\n",
    "plt.title('Distribution of Eruption Categories')\n",
    "plt.show()"
   ]
  },
  {
   "cell_type": "code",
   "execution_count": 19,
   "id": "11f3e693-60a7-45ec-bf6e-c2b4fff2b655",
   "metadata": {},
   "outputs": [
    {
     "data": {
      "image/png": "[encoded data removed]",
      "text/plain": [
       "<Figure size 640x480 with 1 Axes>"
      ]
     },
     "metadata": {},
     "output_type": "display_data"
    }
   ],
   "source": [
    "# sns.countplot(x=df1['evidence_method_dating'])\n",
    "# plt.title('Distribution of Evidence Method Dating')\n",
    "# plt.xticks(rotation=45)  # Rotate labels for better readability if needed\n",
    "# plt.show()\n",
    "\n",
    "# Calculate the value counts for evidence_method_dating\n",
    "top_10_categories = df1['evidence_method_dating'].value_counts().head(10).index\n",
    "\n",
    "# Filter the dataset to include only the top 10 categories\n",
    "filtered_df = df1[df1['evidence_method_dating'].isin(top_10_categories)]\n",
    "\n",
    "# Plot the countplot\n",
    "sns.countplot(x='evidence_method_dating', data=filtered_df, order=top_10_categories)\n",
    "plt.title('Top 10 Evidence Method Dating Categories')\n",
    "plt.xticks(rotation=45)  # Rotate labels for better readability\n",
    "plt.show()\n",
    "\n"
   ]
  },
  {
   "cell_type": "code",
   "execution_count": 20,
   "id": "2f272db3-f350-4b5d-a1fd-05d72393fe8b",
   "metadata": {},
   "outputs": [],
   "source": [
    "irrelevant_columns = ['volcano_number', 'eruption_number', 'volcano_name','vei']\n",
    "df2=df1.drop(columns=irrelevant_columns)"
   ]
  },
  {
   "cell_type": "code",
   "execution_count": 21,
   "id": "fab7b1c9-9a81-4568-a5d6-2d612580ea4c",
   "metadata": {},
   "outputs": [
    {
     "data": {
      "text/html": [
       "<div>\n",
       "<style scoped>\n",
       "    .dataframe tbody tr th:only-of-type {\n",
       "        vertical-align: middle;\n",
       "    }\n",
       "\n",
       "    .dataframe tbody tr th {\n",
       "        vertical-align: top;\n",
       "    }\n",
       "\n",
       "    .dataframe thead th {\n",
       "        text-align: right;\n",
       "    }\n",
       "</style>\n",
       "<table border=\"1\" class=\"dataframe\">\n",
       "  <thead>\n",
       "    <tr style=\"text-align: right;\">\n",
       "      <th></th>\n",
       "      <th>eruption_category</th>\n",
       "      <th>start_year</th>\n",
       "      <th>start_month</th>\n",
       "      <th>start_day</th>\n",
       "      <th>evidence_method_dating</th>\n",
       "      <th>latitude</th>\n",
       "      <th>longitude</th>\n",
       "    </tr>\n",
       "  </thead>\n",
       "  <tbody>\n",
       "    <tr>\n",
       "      <th>0</th>\n",
       "      <td>Confirmed Eruption</td>\n",
       "      <td>2020.0</td>\n",
       "      <td>3.0</td>\n",
       "      <td>23.0</td>\n",
       "      <td>Historical Observations</td>\n",
       "      <td>1.112</td>\n",
       "      <td>124.737</td>\n",
       "    </tr>\n",
       "    <tr>\n",
       "      <th>1</th>\n",
       "      <td>Confirmed Eruption</td>\n",
       "      <td>2020.0</td>\n",
       "      <td>2.0</td>\n",
       "      <td>22.0</td>\n",
       "      <td>Historical Observations</td>\n",
       "      <td>13.434</td>\n",
       "      <td>-88.269</td>\n",
       "    </tr>\n",
       "    <tr>\n",
       "      <th>2</th>\n",
       "      <td>Confirmed Eruption</td>\n",
       "      <td>2020.0</td>\n",
       "      <td>2.0</td>\n",
       "      <td>10.0</td>\n",
       "      <td>Historical Observations</td>\n",
       "      <td>-21.244</td>\n",
       "      <td>55.708</td>\n",
       "    </tr>\n",
       "    <tr>\n",
       "      <th>3</th>\n",
       "      <td>Confirmed Eruption</td>\n",
       "      <td>2020.0</td>\n",
       "      <td>1.0</td>\n",
       "      <td>31.0</td>\n",
       "      <td>Historical Observations</td>\n",
       "      <td>10.830</td>\n",
       "      <td>-85.324</td>\n",
       "    </tr>\n",
       "    <tr>\n",
       "      <th>4</th>\n",
       "      <td>Confirmed Eruption</td>\n",
       "      <td>2020.0</td>\n",
       "      <td>1.0</td>\n",
       "      <td>12.0</td>\n",
       "      <td>Historical Observations</td>\n",
       "      <td>-0.370</td>\n",
       "      <td>-91.550</td>\n",
       "    </tr>\n",
       "  </tbody>\n",
       "</table>\n",
       "</div>"
      ],
      "text/plain": [
       "    eruption_category  start_year  start_month  start_day  \\\n",
       "0  Confirmed Eruption      2020.0          3.0       23.0   \n",
       "1  Confirmed Eruption      2020.0          2.0       22.0   \n",
       "2  Confirmed Eruption      2020.0          2.0       10.0   \n",
       "3  Confirmed Eruption      2020.0          1.0       31.0   \n",
       "4  Confirmed Eruption      2020.0          1.0       12.0   \n",
       "\n",
       "    evidence_method_dating  latitude  longitude  \n",
       "0  Historical Observations     1.112    124.737  \n",
       "1  Historical Observations    13.434    -88.269  \n",
       "2  Historical Observations   -21.244     55.708  \n",
       "3  Historical Observations    10.830    -85.324  \n",
       "4  Historical Observations    -0.370    -91.550  "
      ]
     },
     "execution_count": 21,
     "metadata": {},
     "output_type": "execute_result"
    }
   ],
   "source": [
    "df2.head()"
   ]
  },
  {
   "cell_type": "markdown",
   "id": "3ced0335-b9ed-4f3e-adb3-f829b928bf3f",
   "metadata": {},
   "source": [
    "## <h4> Numerical columns as num_cols </h4>"
   ]
  },
  {
   "cell_type": "code",
   "execution_count": 22,
   "id": "9c1c9e27-1c3d-4fd4-9531-56ce9446e8f3",
   "metadata": {},
   "outputs": [
    {
     "data": {
      "text/html": [
       "<div>\n",
       "<style scoped>\n",
       "    .dataframe tbody tr th:only-of-type {\n",
       "        vertical-align: middle;\n",
       "    }\n",
       "\n",
       "    .dataframe tbody tr th {\n",
       "        vertical-align: top;\n",
       "    }\n",
       "\n",
       "    .dataframe thead th {\n",
       "        text-align: right;\n",
       "    }\n",
       "</style>\n",
       "<table border=\"1\" class=\"dataframe\">\n",
       "  <thead>\n",
       "    <tr style=\"text-align: right;\">\n",
       "      <th></th>\n",
       "      <th>start_year</th>\n",
       "      <th>start_month</th>\n",
       "      <th>start_day</th>\n",
       "      <th>latitude</th>\n",
       "      <th>longitude</th>\n",
       "    </tr>\n",
       "  </thead>\n",
       "  <tbody>\n",
       "    <tr>\n",
       "      <th>0</th>\n",
       "      <td>2020.0</td>\n",
       "      <td>3.0</td>\n",
       "      <td>23.0</td>\n",
       "      <td>1.112</td>\n",
       "      <td>124.737</td>\n",
       "    </tr>\n",
       "    <tr>\n",
       "      <th>1</th>\n",
       "      <td>2020.0</td>\n",
       "      <td>2.0</td>\n",
       "      <td>22.0</td>\n",
       "      <td>13.434</td>\n",
       "      <td>-88.269</td>\n",
       "    </tr>\n",
       "    <tr>\n",
       "      <th>2</th>\n",
       "      <td>2020.0</td>\n",
       "      <td>2.0</td>\n",
       "      <td>10.0</td>\n",
       "      <td>-21.244</td>\n",
       "      <td>55.708</td>\n",
       "    </tr>\n",
       "    <tr>\n",
       "      <th>3</th>\n",
       "      <td>2020.0</td>\n",
       "      <td>1.0</td>\n",
       "      <td>31.0</td>\n",
       "      <td>10.830</td>\n",
       "      <td>-85.324</td>\n",
       "    </tr>\n",
       "    <tr>\n",
       "      <th>4</th>\n",
       "      <td>2020.0</td>\n",
       "      <td>1.0</td>\n",
       "      <td>12.0</td>\n",
       "      <td>-0.370</td>\n",
       "      <td>-91.550</td>\n",
       "    </tr>\n",
       "    <tr>\n",
       "      <th>...</th>\n",
       "      <td>...</td>\n",
       "      <td>...</td>\n",
       "      <td>...</td>\n",
       "      <td>...</td>\n",
       "      <td>...</td>\n",
       "    </tr>\n",
       "    <tr>\n",
       "      <th>11172</th>\n",
       "      <td>-9950.0</td>\n",
       "      <td>0.0</td>\n",
       "      <td>0.0</td>\n",
       "      <td>38.654</td>\n",
       "      <td>42.229</td>\n",
       "    </tr>\n",
       "    <tr>\n",
       "      <th>11173</th>\n",
       "      <td>-10060.0</td>\n",
       "      <td>0.0</td>\n",
       "      <td>0.0</td>\n",
       "      <td>43.420</td>\n",
       "      <td>-113.500</td>\n",
       "    </tr>\n",
       "    <tr>\n",
       "      <th>11174</th>\n",
       "      <td>-10450.0</td>\n",
       "      <td>0.0</td>\n",
       "      <td>0.0</td>\n",
       "      <td>-4.889</td>\n",
       "      <td>31.933</td>\n",
       "    </tr>\n",
       "    <tr>\n",
       "      <th>11175</th>\n",
       "      <td>-10658.0</td>\n",
       "      <td>0.0</td>\n",
       "      <td>0.0</td>\n",
       "      <td>-39.496</td>\n",
       "      <td>-71.722</td>\n",
       "    </tr>\n",
       "    <tr>\n",
       "      <th>11176</th>\n",
       "      <td>-11345.0</td>\n",
       "      <td>0.0</td>\n",
       "      <td>0.0</td>\n",
       "      <td>-39.496</td>\n",
       "      <td>-71.722</td>\n",
       "    </tr>\n",
       "  </tbody>\n",
       "</table>\n",
       "<p>11177 rows × 5 columns</p>\n",
       "</div>"
      ],
      "text/plain": [
       "       start_year  start_month  start_day  latitude  longitude\n",
       "0          2020.0          3.0       23.0     1.112    124.737\n",
       "1          2020.0          2.0       22.0    13.434    -88.269\n",
       "2          2020.0          2.0       10.0   -21.244     55.708\n",
       "3          2020.0          1.0       31.0    10.830    -85.324\n",
       "4          2020.0          1.0       12.0    -0.370    -91.550\n",
       "...           ...          ...        ...       ...        ...\n",
       "11172     -9950.0          0.0        0.0    38.654     42.229\n",
       "11173    -10060.0          0.0        0.0    43.420   -113.500\n",
       "11174    -10450.0          0.0        0.0    -4.889     31.933\n",
       "11175    -10658.0          0.0        0.0   -39.496    -71.722\n",
       "11176    -11345.0          0.0        0.0   -39.496    -71.722\n",
       "\n",
       "[11177 rows x 5 columns]"
      ]
     },
     "execution_count": 22,
     "metadata": {},
     "output_type": "execute_result"
    }
   ],
   "source": [
    "num_cols=df2.select_dtypes(include=[\"int64\",\"float64\"])\n",
    "num_cols"
   ]
  },
  {
   "cell_type": "code",
   "execution_count": 23,
   "id": "df6f41b2-f5f1-4287-9a01-bc71fbb9f040",
   "metadata": {},
   "outputs": [
    {
     "data": {
      "image/png": "[encoded data removed]",
      "text/plain": [
       "<Figure size 1500x1000 with 6 Axes>"
      ]
     },
     "metadata": {},
     "output_type": "display_data"
    }
   ],
   "source": [
    "# Plot histograms for numerical columns\n",
    "num_cols.hist(bins=20, figsize=(15, 10), grid=False, color='skyblue', edgecolor='black')\n",
    "plt.suptitle('Histograms of Numerical Columns', fontsize=16)\n",
    "plt.show()\n"
   ]
  },
  {
   "cell_type": "markdown",
   "id": "f39b1b1d-39b4-46aa-b58e-af7267c9c561",
   "metadata": {},
   "source": [
    "## <h4> Checking Outliers </h4>"
   ]
  },
  {
   "cell_type": "code",
   "execution_count": 24,
   "id": "49d14bec-f157-42a5-9ab7-4e0cb155422d",
   "metadata": {},
   "outputs": [
    {
     "data": {
      "image/png": "[encoded data removed]",
      "text/plain": [
       "<Figure size 640x480 with 1 Axes>"
      ]
     },
     "metadata": {},
     "output_type": "display_data"
    },
    {
     "data": {
      "image/png": "[encoded data removed]",
      "text/plain": [
       "<Figure size 640x480 with 1 Axes>"
      ]
     },
     "metadata": {},
     "output_type": "display_data"
    },
    {
     "data": {
      "image/png": "[encoded data removed]",
      "text/plain": [
       "<Figure size 640x480 with 1 Axes>"
      ]
     },
     "metadata": {},
     "output_type": "display_data"
    },
    {
     "data": {
      "image/png": "[encoded data removed]",
      "text/plain": [
       "<Figure size 640x480 with 1 Axes>"
      ]
     },
     "metadata": {},
     "output_type": "display_data"
    },
    {
     "data": {
      "image/png": "[encoded data removed]",
      "text/plain": [
       "<Figure size 640x480 with 1 Axes>"
      ]
     },
     "metadata": {},
     "output_type": "display_data"
    }
   ],
   "source": [
    "for x in num_cols.columns:\n",
    "    sns.boxplot(x=df2[x],data=df2)\n",
    "    plt.show()"
   ]
  },
  {
   "cell_type": "code",
   "execution_count": 25,
   "id": "e35372dc-7aa9-4df9-beda-3dca8eb77fd1",
   "metadata": {},
   "outputs": [],
   "source": [
    "df3=df2.copy()"
   ]
  },
  {
   "cell_type": "code",
   "execution_count": 26,
   "id": "be4bc182-2c05-422c-9696-fc94f9a64354",
   "metadata": {},
   "outputs": [],
   "source": [
    "num_cols=df3.select_dtypes(include=\"number\")"
   ]
  },
  {
   "cell_type": "code",
   "execution_count": 27,
   "id": "8e1b6b26-0027-4dbf-9ca9-0b7e0679eb34",
   "metadata": {},
   "outputs": [],
   "source": [
    "#df3[num_cols].skew()"
   ]
  },
  {
   "cell_type": "markdown",
   "id": "888eca4c-de34-46dc-8a1a-3ef2f16e18bf",
   "metadata": {},
   "source": [
    "## <h4> Checking Skewness </h4>"
   ]
  },
  {
   "cell_type": "code",
   "execution_count": 28,
   "id": "533d9e06-49f2-4225-86ca-d575969bfc0f",
   "metadata": {},
   "outputs": [],
   "source": [
    "#df3.skew()"
   ]
  },
  {
   "cell_type": "code",
   "execution_count": 29,
   "id": "a3dcabcb-73a3-4ded-b7f7-b715ae97ef8c",
   "metadata": {},
   "outputs": [],
   "source": [
    "pt = PowerTransformer(method = 'yeo-johnson')"
   ]
  },
  {
   "cell_type": "code",
   "execution_count": 30,
   "id": "5c8b77be-d613-4c26-b2bd-0b2a826825d9",
   "metadata": {},
   "outputs": [],
   "source": [
    "# check numerical features\n",
    "numerical_features = df3.select_dtypes(include=['float64', 'int64']).columns"
   ]
  },
  {
   "cell_type": "code",
   "execution_count": 31,
   "id": "84894782-e516-4b97-b7b8-d0d42c02a5d3",
   "metadata": {},
   "outputs": [
    {
     "data": {
      "text/plain": [
       "start_year    -1.083932\n",
       "start_month    0.164580\n",
       "start_day      0.348644\n",
       "latitude      -0.257754\n",
       "longitude     -0.278158\n",
       "dtype: float64"
      ]
     },
     "execution_count": 31,
     "metadata": {},
     "output_type": "execute_result"
    }
   ],
   "source": [
    "df3[numerical_features] = pt.fit_transform(df3[numerical_features])\n",
    "df3[numerical_features].skew()"
   ]
  },
  {
   "cell_type": "markdown",
   "id": "e582d52a-b413-4cac-8a6e-e8f98e3a24b3",
   "metadata": {},
   "source": [
    "## <h4> Correlation </h4>"
   ]
  },
  {
   "cell_type": "code",
   "execution_count": 32,
   "id": "d650d577-b898-45c0-91aa-26f7aaca0656",
   "metadata": {},
   "outputs": [],
   "source": [
    "cor=df3[numerical_features].corr()"
   ]
  },
  {
   "cell_type": "code",
   "execution_count": 33,
   "id": "a896d818-7e58-4f0e-81f8-ea0903d2b033",
   "metadata": {},
   "outputs": [
    {
     "data": {
      "image/png": "[encoded data removed]",
      "text/plain": [
       "<Figure size 640x480 with 2 Axes>"
      ]
     },
     "metadata": {},
     "output_type": "display_data"
    }
   ],
   "source": [
    "sns.heatmap(cor,annot=True,cmap=\"coolwarm\")\n",
    "plt.show()"
   ]
  },
  {
   "cell_type": "markdown",
   "id": "004aad80-3d4c-4519-a163-a47f83c420d6",
   "metadata": {},
   "source": [
    "## <h4> Label Coding </h4>"
   ]
  },
  {
   "cell_type": "code",
   "execution_count": 34,
   "id": "d581d047-dd2f-4d34-baf6-3ce9e308bc54",
   "metadata": {},
   "outputs": [
    {
     "data": {
      "text/html": [
       "<div>\n",
       "<style scoped>\n",
       "    .dataframe tbody tr th:only-of-type {\n",
       "        vertical-align: middle;\n",
       "    }\n",
       "\n",
       "    .dataframe tbody tr th {\n",
       "        vertical-align: top;\n",
       "    }\n",
       "\n",
       "    .dataframe thead th {\n",
       "        text-align: right;\n",
       "    }\n",
       "</style>\n",
       "<table border=\"1\" class=\"dataframe\">\n",
       "  <thead>\n",
       "    <tr style=\"text-align: right;\">\n",
       "      <th></th>\n",
       "      <th>eruption_category</th>\n",
       "      <th>evidence_method_dating</th>\n",
       "    </tr>\n",
       "  </thead>\n",
       "  <tbody>\n",
       "    <tr>\n",
       "      <th>0</th>\n",
       "      <td>Confirmed Eruption</td>\n",
       "      <td>Historical Observations</td>\n",
       "    </tr>\n",
       "    <tr>\n",
       "      <th>1</th>\n",
       "      <td>Confirmed Eruption</td>\n",
       "      <td>Historical Observations</td>\n",
       "    </tr>\n",
       "    <tr>\n",
       "      <th>2</th>\n",
       "      <td>Confirmed Eruption</td>\n",
       "      <td>Historical Observations</td>\n",
       "    </tr>\n",
       "    <tr>\n",
       "      <th>3</th>\n",
       "      <td>Confirmed Eruption</td>\n",
       "      <td>Historical Observations</td>\n",
       "    </tr>\n",
       "    <tr>\n",
       "      <th>4</th>\n",
       "      <td>Confirmed Eruption</td>\n",
       "      <td>Historical Observations</td>\n",
       "    </tr>\n",
       "    <tr>\n",
       "      <th>...</th>\n",
       "      <td>...</td>\n",
       "      <td>...</td>\n",
       "    </tr>\n",
       "    <tr>\n",
       "      <th>11172</th>\n",
       "      <td>Confirmed Eruption</td>\n",
       "      <td>Varve Count</td>\n",
       "    </tr>\n",
       "    <tr>\n",
       "      <th>11173</th>\n",
       "      <td>Confirmed Eruption</td>\n",
       "      <td>Radiocarbon (uncorrected)</td>\n",
       "    </tr>\n",
       "    <tr>\n",
       "      <th>11174</th>\n",
       "      <td>Confirmed Eruption</td>\n",
       "      <td>Surface Exposure</td>\n",
       "    </tr>\n",
       "    <tr>\n",
       "      <th>11175</th>\n",
       "      <td>Confirmed Eruption</td>\n",
       "      <td>Radiocarbon (corrected)</td>\n",
       "    </tr>\n",
       "    <tr>\n",
       "      <th>11176</th>\n",
       "      <td>Confirmed Eruption</td>\n",
       "      <td>Radiocarbon (corrected)</td>\n",
       "    </tr>\n",
       "  </tbody>\n",
       "</table>\n",
       "<p>11177 rows × 2 columns</p>\n",
       "</div>"
      ],
      "text/plain": [
       "        eruption_category     evidence_method_dating\n",
       "0      Confirmed Eruption    Historical Observations\n",
       "1      Confirmed Eruption    Historical Observations\n",
       "2      Confirmed Eruption    Historical Observations\n",
       "3      Confirmed Eruption    Historical Observations\n",
       "4      Confirmed Eruption    Historical Observations\n",
       "...                   ...                        ...\n",
       "11172  Confirmed Eruption                Varve Count\n",
       "11173  Confirmed Eruption  Radiocarbon (uncorrected)\n",
       "11174  Confirmed Eruption           Surface Exposure\n",
       "11175  Confirmed Eruption    Radiocarbon (corrected)\n",
       "11176  Confirmed Eruption    Radiocarbon (corrected)\n",
       "\n",
       "[11177 rows x 2 columns]"
      ]
     },
     "execution_count": 34,
     "metadata": {},
     "output_type": "execute_result"
    }
   ],
   "source": [
    "cat_cols=df3.select_dtypes(include=\"object\")\n",
    "cat_cols"
   ]
  },
  {
   "cell_type": "code",
   "execution_count": 35,
   "id": "cc70b667-4022-40b4-8f81-0d909d5e4176",
   "metadata": {},
   "outputs": [
    {
     "data": {
      "text/plain": [
       "eruption_category\n",
       "Confirmed Eruption      9899\n",
       "Uncertain Eruption      1112\n",
       "Discredited Eruption     166\n",
       "Name: count, dtype: int64"
      ]
     },
     "execution_count": 35,
     "metadata": {},
     "output_type": "execute_result"
    }
   ],
   "source": [
    "df3.eruption_category.value_counts()"
   ]
  },
  {
   "cell_type": "code",
   "execution_count": 36,
   "id": "45f6f973-2dfd-4ce7-926f-98d9bfd4acfe",
   "metadata": {},
   "outputs": [
    {
     "data": {
      "text/plain": [
       "evidence_method_dating\n",
       "Historical Observations      7669\n",
       "Tephrochronology             1046\n",
       "Radiocarbon (uncorrected)     981\n",
       "Radiocarbon (corrected)       852\n",
       "Varve Count                   187\n",
       "Ice Core                      116\n",
       "Hydrophonic                    68\n",
       "Magnetism                      58\n",
       "Anthropology                   38\n",
       "Uranium-series                 31\n",
       "Ar/Ar                          29\n",
       "Surface Exposure               29\n",
       "Potassium-Argon                22\n",
       "Dendrochronology               15\n",
       "Hydration Rind                 11\n",
       "Thermoluminescence             11\n",
       "Uncertain                       6\n",
       "Seismicity                      3\n",
       "Fission track                   3\n",
       "Lichenometry                    2\n",
       "Name: count, dtype: int64"
      ]
     },
     "execution_count": 36,
     "metadata": {},
     "output_type": "execute_result"
    }
   ],
   "source": [
    "df3.evidence_method_dating.value_counts()"
   ]
  },
  {
   "cell_type": "code",
   "execution_count": 37,
   "id": "84fbc7a4-66ce-4c10-9139-26a1064cf82b",
   "metadata": {},
   "outputs": [
    {
     "name": "stdout",
     "output_type": "stream",
     "text": [
      "Label Mapping: {'Confirmed Eruption': 0, 'Discredited Eruption': 1, 'Uncertain Eruption': 2}\n",
      "0    0\n",
      "1    0\n",
      "2    0\n",
      "3    0\n",
      "4    0\n",
      "Name: eruption_category, dtype: int32\n"
     ]
    }
   ],
   "source": [
    "from sklearn.preprocessing import LabelEncoder\n",
    "\n",
    "# Initialize the LabelEncoder\n",
    "label_encoder = LabelEncoder()\n",
    "\n",
    "# Apply LabelEncoder to the target column\n",
    "df3['eruption_category'] = label_encoder.fit_transform(df3['eruption_category'])\n",
    "\n",
    "# Map encoded labels back to original for reference\n",
    "label_mapping = dict(zip(label_encoder.classes_, label_encoder.transform(label_encoder.classes_)))\n",
    "print(\"Label Mapping:\", label_mapping)\n",
    "\n",
    "# Check the updated column\n",
    "print(df3['eruption_category'].head())\n"
   ]
  },
  {
   "cell_type": "code",
   "execution_count": 38,
   "id": "9f73ba97-ac6a-4009-9055-1a1ff493d338",
   "metadata": {},
   "outputs": [
    {
     "data": {
      "text/plain": [
       "eruption_category\n",
       "0    9899\n",
       "2    1112\n",
       "1     166\n",
       "Name: count, dtype: int64"
      ]
     },
     "execution_count": 38,
     "metadata": {},
     "output_type": "execute_result"
    }
   ],
   "source": [
    "df3['eruption_category'].value_counts()"
   ]
  },
  {
   "cell_type": "code",
   "execution_count": 39,
   "id": "1a5ef6b2-b0aa-436a-8108-84b94ce2c275",
   "metadata": {},
   "outputs": [
    {
     "name": "stdout",
     "output_type": "stream",
     "text": [
      "Label Mapping: {'Anthropology': 0, 'Ar/Ar': 1, 'Dendrochronology': 2, 'Fission track': 3, 'Historical Observations': 4, 'Hydration Rind': 5, 'Hydrophonic': 6, 'Ice Core': 7, 'Lichenometry': 8, 'Magnetism': 9, 'Potassium-Argon': 10, 'Radiocarbon (corrected)': 11, 'Radiocarbon (uncorrected)': 12, 'Seismicity': 13, 'Surface Exposure': 14, 'Tephrochronology': 15, 'Thermoluminescence': 16, 'Uncertain': 17, 'Uranium-series': 18, 'Varve Count': 19}\n",
      "0    4\n",
      "1    4\n",
      "2    4\n",
      "3    4\n",
      "4    4\n",
      "Name: evidence_method_dating, dtype: int32\n"
     ]
    }
   ],
   "source": [
    "# Initialize LabelEncoder\n",
    "label_encoder = LabelEncoder()\n",
    "\n",
    "# Apply LabelEncoder to 'evidence_method_dating'\n",
    "df3['evidence_method_dating'] = label_encoder.fit_transform(df3['evidence_method_dating'])\n",
    "\n",
    "# Map encoded labels back to original for reference\n",
    "label_mapping = dict(zip(label_encoder.classes_, label_encoder.transform(label_encoder.classes_)))\n",
    "print(\"Label Mapping:\", label_mapping)\n",
    "\n",
    "# Check the updated column\n",
    "print(df3['evidence_method_dating'].head())\n"
   ]
  },
  {
   "cell_type": "code",
   "execution_count": 40,
   "id": "f7fec5fb-9cd6-4ee5-b65c-85af1562f269",
   "metadata": {},
   "outputs": [
    {
     "data": {
      "text/plain": [
       "evidence_method_dating\n",
       "4     7669\n",
       "15    1046\n",
       "12     981\n",
       "11     852\n",
       "19     187\n",
       "7      116\n",
       "6       68\n",
       "9       58\n",
       "0       38\n",
       "18      31\n",
       "1       29\n",
       "14      29\n",
       "10      22\n",
       "2       15\n",
       "5       11\n",
       "16      11\n",
       "17       6\n",
       "13       3\n",
       "3        3\n",
       "8        2\n",
       "Name: count, dtype: int64"
      ]
     },
     "execution_count": 40,
     "metadata": {},
     "output_type": "execute_result"
    }
   ],
   "source": [
    "df3['evidence_method_dating'].value_counts()"
   ]
  },
  {
   "cell_type": "markdown",
   "id": "611885cd-f259-493f-b61b-a93579c0dfeb",
   "metadata": {},
   "source": [
    "## <h4> Feature Selection </h4>"
   ]
  },
  {
   "cell_type": "code",
   "execution_count": 41,
   "id": "c5aefc2f-6245-45ce-93a3-a672ffee2cf4",
   "metadata": {},
   "outputs": [],
   "source": [
    "X=df3.drop(\"eruption_category\",axis=1)\n",
    "y=df3[\"eruption_category\"]"
   ]
  },
  {
   "cell_type": "code",
   "execution_count": 42,
   "id": "4c2a83ec-10b4-470c-9a34-3a50acda1fc3",
   "metadata": {},
   "outputs": [
    {
     "name": "stdout",
     "output_type": "stream",
     "text": [
      "Selected Features: Index(['start_year', 'start_month', 'start_day', 'evidence_method_dating',\n",
      "       'latitude', 'longitude'],\n",
      "      dtype='object')\n",
      "\n",
      "Feature Scores:\n",
      "                  Feature       Score\n",
      "3  evidence_method_dating  275.121590\n",
      "0              start_year  187.011668\n",
      "1             start_month   12.192555\n",
      "2               start_day    6.080802\n",
      "5               longitude    4.042258\n",
      "4                latitude    1.639481\n"
     ]
    }
   ],
   "source": [
    "sk =  SelectKBest(score_func = f_classif, k = 10)\n",
    "x_new = sk.fit_transform(X,y)\n",
    "# Get selected feature names and scores\n",
    "selected_features = X.columns[sk.get_support()]\n",
    "feature_scores = pd.DataFrame({'Feature': X.columns, 'Score': sk.scores_}).sort_values(by='Score', ascending=False)\n",
    "\n",
    "print(\"Selected Features:\", selected_features)\n",
    "print(\"\\nFeature Scores:\")\n",
    "print(feature_scores)"
   ]
  },
  {
   "cell_type": "markdown",
   "id": "e288bb43-b6d0-42c3-9c5f-444439ef38ff",
   "metadata": {},
   "source": [
    "## <h4> Scaling </h4>"
   ]
  },
  {
   "cell_type": "code",
   "execution_count": 43,
   "id": "5697a504-c783-4702-95d0-19eff002ef82",
   "metadata": {},
   "outputs": [
    {
     "data": {
      "text/plain": [
       "array([[ 0.78986062,  0.51679191,  1.35161038, -0.61320449, -0.54181587,\n",
       "         0.80909112],\n",
       "       [ 0.78986062,  0.24750404,  1.33673721, -0.61320449, -0.13679708,\n",
       "        -1.04553923],\n",
       "       [ 0.78986062,  0.24750404,  1.03397899, -0.61320449, -1.23228495,\n",
       "         0.16907992],\n",
       "       ...,\n",
       "       [-2.46038687, -0.99944144, -0.88331111,  1.69159646, -0.73074656,\n",
       "        -0.04865812],\n",
       "       [-2.4798514 , -0.99944144, -0.88331111,  1.00015617, -1.78482111,\n",
       "        -0.91435244],\n",
       "       [-2.54374054, -0.99944144, -0.88331111,  1.00015617, -1.78482111,\n",
       "        -0.91435244]])"
      ]
     },
     "execution_count": 43,
     "metadata": {},
     "output_type": "execute_result"
    }
   ],
   "source": [
    "scaler = StandardScaler()\n",
    "x_scaled = scaler.fit_transform(X)\n",
    "x_scaled"
   ]
  },
  {
   "cell_type": "code",
   "execution_count": 44,
   "id": "c99a60d0-63a3-452c-b11e-aadce996776e",
   "metadata": {},
   "outputs": [],
   "source": [
    "# Split\n",
    "X_train,X_test,y_train,y_test = train_test_split(x_scaled,y,test_size = 0.2,random_state = 42)"
   ]
  },
  {
   "cell_type": "code",
   "execution_count": 45,
   "id": "32141120-c31e-499f-842c-4fd87aa8b457",
   "metadata": {},
   "outputs": [
    {
     "name": "stdout",
     "output_type": "stream",
     "text": [
      "x_train:(8941, 6),x_test:(2236, 6),y_train:(8941,),y_test:(2236,)\n"
     ]
    }
   ],
   "source": [
    "print(f\"x_train:{X_train.shape},x_test:{X_test.shape},y_train:{y_train.shape},y_test:{y_test.shape}\")"
   ]
  },
  {
   "cell_type": "markdown",
   "id": "9bdb21ac-7a4d-416f-bf5d-85f050996fe5",
   "metadata": {},
   "source": [
    "## Model Comparison"
   ]
  },
  {
   "cell_type": "code",
   "execution_count": 46,
   "id": "df11eca6-bfdf-45e5-9a64-62203bb5be7d",
   "metadata": {},
   "outputs": [],
   "source": [
    "models ={\n",
    "    '1.LogisticRegression':LogisticRegression(),\n",
    "    '2. SVC':SVC(),\n",
    "    '3. DecisionTreeClassifier':DecisionTreeClassifier(),\n",
    "    '4. Randomforest':RandomForestClassifier(),\n",
    "    '5.Gradient Boosting': GradientBoostingClassifier(),\n",
    "    '6.AdaBoost': AdaBoostClassifier(),\n",
    "    '7.Naive Bayes':GaussianNB()\n",
    "}"
   ]
  },
  {
   "cell_type": "code",
   "execution_count": 47,
   "id": "21988cce-bd03-45e0-a488-a4a000e4f64c",
   "metadata": {},
   "outputs": [
    {
     "name": "stdout",
     "output_type": "stream",
     "text": [
      "\n",
      "Training Name1.LogisticRegression--->\n",
      "1.LogisticRegression Accuracy: 0.8810\n",
      "\n",
      "ClassificationReport\n",
      "              precision    recall  f1-score   support\n",
      "\n",
      "           0       0.88      1.00      0.94      1973\n",
      "           1       0.00      0.00      0.00        26\n",
      "           2       0.00      0.00      0.00       237\n",
      "\n",
      "    accuracy                           0.88      2236\n",
      "   macro avg       0.29      0.33      0.31      2236\n",
      "weighted avg       0.78      0.88      0.83      2236\n",
      "\n",
      "\n",
      "Training Name2. SVC--->\n",
      "2. SVC Accuracy: 0.8824\n",
      "\n",
      "ClassificationReport\n",
      "              precision    recall  f1-score   support\n",
      "\n",
      "           0       0.88      1.00      0.94      1973\n",
      "           1       0.00      0.00      0.00        26\n",
      "           2       0.00      0.00      0.00       237\n",
      "\n",
      "    accuracy                           0.88      2236\n",
      "   macro avg       0.29      0.33      0.31      2236\n",
      "weighted avg       0.78      0.88      0.83      2236\n",
      "\n",
      "\n",
      "Training Name3. DecisionTreeClassifier--->\n",
      "3. DecisionTreeClassifier Accuracy: 0.8457\n",
      "\n",
      "ClassificationReport\n",
      "              precision    recall  f1-score   support\n",
      "\n",
      "           0       0.91      0.92      0.92      1973\n",
      "           1       0.10      0.15      0.12        26\n",
      "           2       0.35      0.32      0.33       237\n",
      "\n",
      "    accuracy                           0.85      2236\n",
      "   macro avg       0.46      0.46      0.46      2236\n",
      "weighted avg       0.85      0.85      0.85      2236\n",
      "\n",
      "\n",
      "Training Name4. Randomforest--->\n",
      "4. Randomforest Accuracy: 0.8846\n",
      "\n",
      "ClassificationReport\n",
      "              precision    recall  f1-score   support\n",
      "\n",
      "           0       0.91      0.97      0.94      1973\n",
      "           1       0.27      0.15      0.20        26\n",
      "           2       0.50      0.23      0.32       237\n",
      "\n",
      "    accuracy                           0.88      2236\n",
      "   macro avg       0.56      0.45      0.48      2236\n",
      "weighted avg       0.86      0.88      0.86      2236\n",
      "\n",
      "\n",
      "Training Name5.Gradient Boosting--->\n",
      "5.Gradient Boosting Accuracy: 0.8918\n",
      "\n",
      "ClassificationReport\n",
      "              precision    recall  f1-score   support\n",
      "\n",
      "           0       0.90      0.99      0.94      1973\n",
      "           1       0.33      0.04      0.07        26\n",
      "           2       0.72      0.14      0.23       237\n",
      "\n",
      "    accuracy                           0.89      2236\n",
      "   macro avg       0.65      0.39      0.41      2236\n",
      "weighted avg       0.87      0.89      0.86      2236\n",
      "\n",
      "\n",
      "Training Name6.AdaBoost--->\n",
      "6.AdaBoost Accuracy: 0.7075\n",
      "\n",
      "ClassificationReport\n",
      "              precision    recall  f1-score   support\n",
      "\n",
      "           0       0.86      0.80      0.83      1973\n",
      "           1       0.00      0.00      0.00        26\n",
      "           2       0.01      0.03      0.02       237\n",
      "\n",
      "    accuracy                           0.71      2236\n",
      "   macro avg       0.29      0.27      0.28      2236\n",
      "weighted avg       0.76      0.71      0.73      2236\n",
      "\n",
      "\n",
      "Training Name7.Naive Bayes--->\n",
      "7.Naive Bayes Accuracy: 0.3126\n",
      "\n",
      "ClassificationReport\n",
      "              precision    recall  f1-score   support\n",
      "\n",
      "           0       1.00      0.34      0.51      1973\n",
      "           1       0.02      0.96      0.03        26\n",
      "           2       0.00      0.00      0.00       237\n",
      "\n",
      "    accuracy                           0.31      2236\n",
      "   macro avg       0.34      0.43      0.18      2236\n",
      "weighted avg       0.88      0.31      0.45      2236\n",
      "\n"
     ]
    }
   ],
   "source": [
    "results ={}\n",
    "for name,model in models.items():\n",
    "    print(f\"\\nTraining Name{name}--->\")\n",
    "    model.fit(X_train,y_train)\n",
    "    y_pred    = model.predict(X_test)\n",
    "    accuracy  = accuracy_score(y_test,y_pred)\n",
    "    results[name]= {\n",
    "        'model':model,\n",
    "        'accuracy':accuracy_score,\n",
    "        'Report':classification_report(y_test,y_pred)\n",
    "    }\n",
    "\n",
    "    print(f\"{name} Accuracy: {accuracy:.4f}\")\n",
    "    print(\"\\nClassificationReport\")\n",
    "    print(results[name]['Report'])\n",
    "    "
   ]
  },
  {
   "cell_type": "markdown",
   "id": "773bc67f-0172-41ac-9984-38cdbf4f5eb7",
   "metadata": {},
   "source": [
    "## HyperParameter Tuning"
   ]
  },
  {
   "cell_type": "code",
   "execution_count": 48,
   "id": "f954f84e-514e-481f-ba0c-e71ea44f1726",
   "metadata": {},
   "outputs": [],
   "source": [
    "# Defining the Gradient Boosting model\n",
    "gbc = GradientBoostingClassifier(random_state=42)"
   ]
  },
  {
   "cell_type": "code",
   "execution_count": 49,
   "id": "afabae15-c49b-4d08-ae57-4d968a49a49d",
   "metadata": {},
   "outputs": [],
   "source": [
    "# Defining the hyperparameter space\n",
    "\n",
    "param_dist = {\n",
    "    'n_estimators': [50, 100, 200, 300, 400],  # Number of boosting stages\n",
    "    'max_depth': [3, 5, 10, 15, None],         # Maximum depth of trees\n",
    "    'min_samples_split': [2, 5, 10, 15],       # Minimum samples required to split an internal node\n",
    "    'min_samples_leaf': [1, 2, 4, 8],          # Minimum samples required to be a leaf node\n",
    "    'learning_rate': [0.01, 0.05, 0.1, 0.2],   # Learning rate\n",
    "    'subsample': [0.6, 0.8, 1.0],              # Fraction of samples used for fitting the individual base learners\n",
    "    'max_features': ['sqrt', 'log2', None]     # Number of features to consider for splits\n",
    "}"
   ]
  },
  {
   "cell_type": "markdown",
   "id": "22feb550-3d5f-4749-9768-e5cd9ffb534b",
   "metadata": {},
   "source": [
    "#### Using RandomizedSearchCV"
   ]
  },
  {
   "cell_type": "code",
   "execution_count": 50,
   "id": "6064c766-bb6a-4938-8d1f-a63c9bf0d0cc",
   "metadata": {},
   "outputs": [],
   "source": [
    "random_search = RandomizedSearchCV(\n",
    "    estimator=gbc,\n",
    "    param_distributions=param_dist,\n",
    "    n_iter=50,               # Number of random combinations to try\n",
    "    scoring='f1_weighted',   # Optimize for weighted F1-score\n",
    "    cv=5,                    # 5-fold cross-validation\n",
    "    verbose=2,               # Detailed output during training\n",
    "    random_state=42,\n",
    "    n_jobs=-1                # Use all available CPU cores\n",
    ")"
   ]
  },
  {
   "cell_type": "code",
   "execution_count": 51,
   "id": "ad673aba-b53e-41cd-914e-3cb9d2adfbc5",
   "metadata": {},
   "outputs": [
    {
     "name": "stdout",
     "output_type": "stream",
     "text": [
      "Fitting 5 folds for each of 50 candidates, totalling 250 fits\n"
     ]
    },
    {
     "data": {
      "text/html": [
       "<style>#sk-container-id-1 {\n",
       "  /* Definition of color scheme common for light and dark mode */\n",
       "  --sklearn-color-text: black;\n",
       "  --sklearn-color-line: gray;\n",
       "  /* Definition of color scheme for unfitted estimators */\n",
       "  --sklearn-color-unfitted-level-0: #fff5e6;\n",
       "  --sklearn-color-unfitted-level-1: #f6e4d2;\n",
       "  --sklearn-color-unfitted-level-2: #ffe0b3;\n",
       "  --sklearn-color-unfitted-level-3: chocolate;\n",
       "  /* Definition of color scheme for fitted estimators */\n",
       "  --sklearn-color-fitted-level-0: #f0f8ff;\n",
       "  --sklearn-color-fitted-level-1: #d4ebff;\n",
       "  --sklearn-color-fitted-level-2: #b3dbfd;\n",
       "  --sklearn-color-fitted-level-3: cornflowerblue;\n",
       "\n",
       "  /* Specific color for light theme */\n",
       "  --sklearn-color-text-on-default-background: var(--sg-text-color, var(--theme-code-foreground, var(--jp-content-font-color1, black)));\n",
       "  --sklearn-color-background: var(--sg-background-color, var(--theme-background, var(--jp-layout-color0, white)));\n",
       "  --sklearn-color-border-box: var(--sg-text-color, var(--theme-code-foreground, var(--jp-content-font-color1, black)));\n",
       "  --sklearn-color-icon: #696969;\n",
       "\n",
       "  @media (prefers-color-scheme: dark) {\n",
       "    /* Redefinition of color scheme for dark theme */\n",
       "    --sklearn-color-text-on-default-background: var(--sg-text-color, var(--theme-code-foreground, var(--jp-content-font-color1, white)));\n",
       "    --sklearn-color-background: var(--sg-background-color, var(--theme-background, var(--jp-layout-color0, #111)));\n",
       "    --sklearn-color-border-box: var(--sg-text-color, var(--theme-code-foreground, var(--jp-content-font-color1, white)));\n",
       "    --sklearn-color-icon: #878787;\n",
       "  }\n",
       "}\n",
       "\n",
       "#sk-container-id-1 {\n",
       "  color: var(--sklearn-color-text);\n",
       "}\n",
       "\n",
       "#sk-container-id-1 pre {\n",
       "  padding: 0;\n",
       "}\n",
       "\n",
       "#sk-container-id-1 input.sk-hidden--visually {\n",
       "  border: 0;\n",
       "  clip: rect(1px 1px 1px 1px);\n",
       "  clip: rect(1px, 1px, 1px, 1px);\n",
       "  height: 1px;\n",
       "  margin: -1px;\n",
       "  overflow: hidden;\n",
       "  padding: 0;\n",
       "  position: absolute;\n",
       "  width: 1px;\n",
       "}\n",
       "\n",
       "#sk-container-id-1 div.sk-dashed-wrapped {\n",
       "  border: 1px dashed var(--sklearn-color-line);\n",
       "  margin: 0 0.4em 0.5em 0.4em;\n",
       "  box-sizing: border-box;\n",
       "  padding-bottom: 0.4em;\n",
       "  background-color: var(--sklearn-color-background);\n",
       "}\n",
       "\n",
       "#sk-container-id-1 div.sk-container {\n",
       "  /* jupyter's `normalize.less` sets `[hidden] { display: none; }`\n",
       "     but bootstrap.min.css set `[hidden] { display: none !important; }`\n",
       "     so we also need the `!important` here to be able to override the\n",
       "     default hidden behavior on the sphinx rendered scikit-learn.org.\n",
       "     See: https://github.com/scikit-learn/scikit-learn/issues/21755 */\n",
       "  display: inline-block !important;\n",
       "  position: relative;\n",
       "}\n",
       "\n",
       "#sk-container-id-1 div.sk-text-repr-fallback {\n",
       "  display: none;\n",
       "}\n",
       "\n",
       "div.sk-parallel-item,\n",
       "div.sk-serial,\n",
       "div.sk-item {\n",
       "  /* draw centered vertical line to link estimators */\n",
       "  background-image: linear-gradient(var(--sklearn-color-text-on-default-background), var(--sklearn-color-text-on-default-background));\n",
       "  background-size: 2px 100%;\n",
       "  background-repeat: no-repeat;\n",
       "  background-position: center center;\n",
       "}\n",
       "\n",
       "/* Parallel-specific style estimator block */\n",
       "\n",
       "#sk-container-id-1 div.sk-parallel-item::after {\n",
       "  content: \"\";\n",
       "  width: 100%;\n",
       "  border-bottom: 2px solid var(--sklearn-color-text-on-default-background);\n",
       "  flex-grow: 1;\n",
       "}\n",
       "\n",
       "#sk-container-id-1 div.sk-parallel {\n",
       "  display: flex;\n",
       "  align-items: stretch;\n",
       "  justify-content: center;\n",
       "  background-color: var(--sklearn-color-background);\n",
       "  position: relative;\n",
       "}\n",
       "\n",
       "#sk-container-id-1 div.sk-parallel-item {\n",
       "  display: flex;\n",
       "  flex-direction: column;\n",
       "}\n",
       "\n",
       "#sk-container-id-1 div.sk-parallel-item:first-child::after {\n",
       "  align-self: flex-end;\n",
       "  width: 50%;\n",
       "}\n",
       "\n",
       "#sk-container-id-1 div.sk-parallel-item:last-child::after {\n",
       "  align-self: flex-start;\n",
       "  width: 50%;\n",
       "}\n",
       "\n",
       "#sk-container-id-1 div.sk-parallel-item:only-child::after {\n",
       "  width: 0;\n",
       "}\n",
       "\n",
       "/* Serial-specific style estimator block */\n",
       "\n",
       "#sk-container-id-1 div.sk-serial {\n",
       "  display: flex;\n",
       "  flex-direction: column;\n",
       "  align-items: center;\n",
       "  background-color: var(--sklearn-color-background);\n",
       "  padding-right: 1em;\n",
       "  padding-left: 1em;\n",
       "}\n",
       "\n",
       "\n",
       "/* Toggleable style: style used for estimator/Pipeline/ColumnTransformer box that is\n",
       "clickable and can be expanded/collapsed.\n",
       "- Pipeline and ColumnTransformer use this feature and define the default style\n",
       "- Estimators will overwrite some part of the style using the `sk-estimator` class\n",
       "*/\n",
       "\n",
       "/* Pipeline and ColumnTransformer style (default) */\n",
       "\n",
       "#sk-container-id-1 div.sk-toggleable {\n",
       "  /* Default theme specific background. It is overwritten whether we have a\n",
       "  specific estimator or a Pipeline/ColumnTransformer */\n",
       "  background-color: var(--sklearn-color-background);\n",
       "}\n",
       "\n",
       "/* Toggleable label */\n",
       "#sk-container-id-1 label.sk-toggleable__label {\n",
       "  cursor: pointer;\n",
       "  display: block;\n",
       "  width: 100%;\n",
       "  margin-bottom: 0;\n",
       "  padding: 0.5em;\n",
       "  box-sizing: border-box;\n",
       "  text-align: center;\n",
       "}\n",
       "\n",
       "#sk-container-id-1 label.sk-toggleable__label-arrow:before {\n",
       "  /* Arrow on the left of the label */\n",
       "  content: \"▸\";\n",
       "  float: left;\n",
       "  margin-right: 0.25em;\n",
       "  color: var(--sklearn-color-icon);\n",
       "}\n",
       "\n",
       "#sk-container-id-1 label.sk-toggleable__label-arrow:hover:before {\n",
       "  color: var(--sklearn-color-text);\n",
       "}\n",
       "\n",
       "/* Toggleable content - dropdown */\n",
       "\n",
       "#sk-container-id-1 div.sk-toggleable__content {\n",
       "  max-height: 0;\n",
       "  max-width: 0;\n",
       "  overflow: hidden;\n",
       "  text-align: left;\n",
       "  /* unfitted */\n",
       "  background-color: var(--sklearn-color-unfitted-level-0);\n",
       "}\n",
       "\n",
       "#sk-container-id-1 div.sk-toggleable__content.fitted {\n",
       "  /* fitted */\n",
       "  background-color: var(--sklearn-color-fitted-level-0);\n",
       "}\n",
       "\n",
       "#sk-container-id-1 div.sk-toggleable__content pre {\n",
       "  margin: 0.2em;\n",
       "  border-radius: 0.25em;\n",
       "  color: var(--sklearn-color-text);\n",
       "  /* unfitted */\n",
       "  background-color: var(--sklearn-color-unfitted-level-0);\n",
       "}\n",
       "\n",
       "#sk-container-id-1 div.sk-toggleable__content.fitted pre {\n",
       "  /* unfitted */\n",
       "  background-color: var(--sklearn-color-fitted-level-0);\n",
       "}\n",
       "\n",
       "#sk-container-id-1 input.sk-toggleable__control:checked~div.sk-toggleable__content {\n",
       "  /* Expand drop-down */\n",
       "  max-height: 200px;\n",
       "  max-width: 100%;\n",
       "  overflow: auto;\n",
       "}\n",
       "\n",
       "#sk-container-id-1 input.sk-toggleable__control:checked~label.sk-toggleable__label-arrow:before {\n",
       "  content: \"▾\";\n",
       "}\n",
       "\n",
       "/* Pipeline/ColumnTransformer-specific style */\n",
       "\n",
       "#sk-container-id-1 div.sk-label input.sk-toggleable__control:checked~label.sk-toggleable__label {\n",
       "  color: var(--sklearn-color-text);\n",
       "  background-color: var(--sklearn-color-unfitted-level-2);\n",
       "}\n",
       "\n",
       "#sk-container-id-1 div.sk-label.fitted input.sk-toggleable__control:checked~label.sk-toggleable__label {\n",
       "  background-color: var(--sklearn-color-fitted-level-2);\n",
       "}\n",
       "\n",
       "/* Estimator-specific style */\n",
       "\n",
       "/* Colorize estimator box */\n",
       "#sk-container-id-1 div.sk-estimator input.sk-toggleable__control:checked~label.sk-toggleable__label {\n",
       "  /* unfitted */\n",
       "  background-color: var(--sklearn-color-unfitted-level-2);\n",
       "}\n",
       "\n",
       "#sk-container-id-1 div.sk-estimator.fitted input.sk-toggleable__control:checked~label.sk-toggleable__label {\n",
       "  /* fitted */\n",
       "  background-color: var(--sklearn-color-fitted-level-2);\n",
       "}\n",
       "\n",
       "#sk-container-id-1 div.sk-label label.sk-toggleable__label,\n",
       "#sk-container-id-1 div.sk-label label {\n",
       "  /* The background is the default theme color */\n",
       "  color: var(--sklearn-color-text-on-default-background);\n",
       "}\n",
       "\n",
       "/* On hover, darken the color of the background */\n",
       "#sk-container-id-1 div.sk-label:hover label.sk-toggleable__label {\n",
       "  color: var(--sklearn-color-text);\n",
       "  background-color: var(--sklearn-color-unfitted-level-2);\n",
       "}\n",
       "\n",
       "/* Label box, darken color on hover, fitted */\n",
       "#sk-container-id-1 div.sk-label.fitted:hover label.sk-toggleable__label.fitted {\n",
       "  color: var(--sklearn-color-text);\n",
       "  background-color: var(--sklearn-color-fitted-level-2);\n",
       "}\n",
       "\n",
       "/* Estimator label */\n",
       "\n",
       "#sk-container-id-1 div.sk-label label {\n",
       "  font-family: monospace;\n",
       "  font-weight: bold;\n",
       "  display: inline-block;\n",
       "  line-height: 1.2em;\n",
       "}\n",
       "\n",
       "#sk-container-id-1 div.sk-label-container {\n",
       "  text-align: center;\n",
       "}\n",
       "\n",
       "/* Estimator-specific */\n",
       "#sk-container-id-1 div.sk-estimator {\n",
       "  font-family: monospace;\n",
       "  border: 1px dotted var(--sklearn-color-border-box);\n",
       "  border-radius: 0.25em;\n",
       "  box-sizing: border-box;\n",
       "  margin-bottom: 0.5em;\n",
       "  /* unfitted */\n",
       "  background-color: var(--sklearn-color-unfitted-level-0);\n",
       "}\n",
       "\n",
       "#sk-container-id-1 div.sk-estimator.fitted {\n",
       "  /* fitted */\n",
       "  background-color: var(--sklearn-color-fitted-level-0);\n",
       "}\n",
       "\n",
       "/* on hover */\n",
       "#sk-container-id-1 div.sk-estimator:hover {\n",
       "  /* unfitted */\n",
       "  background-color: var(--sklearn-color-unfitted-level-2);\n",
       "}\n",
       "\n",
       "#sk-container-id-1 div.sk-estimator.fitted:hover {\n",
       "  /* fitted */\n",
       "  background-color: var(--sklearn-color-fitted-level-2);\n",
       "}\n",
       "\n",
       "/* Specification for estimator info (e.g. \"i\" and \"?\") */\n",
       "\n",
       "/* Common style for \"i\" and \"?\" */\n",
       "\n",
       ".sk-estimator-doc-link,\n",
       "a:link.sk-estimator-doc-link,\n",
       "a:visited.sk-estimator-doc-link {\n",
       "  float: right;\n",
       "  font-size: smaller;\n",
       "  line-height: 1em;\n",
       "  font-family: monospace;\n",
       "  background-color: var(--sklearn-color-background);\n",
       "  border-radius: 1em;\n",
       "  height: 1em;\n",
       "  width: 1em;\n",
       "  text-decoration: none !important;\n",
       "  margin-left: 1ex;\n",
       "  /* unfitted */\n",
       "  border: var(--sklearn-color-unfitted-level-1) 1pt solid;\n",
       "  color: var(--sklearn-color-unfitted-level-1);\n",
       "}\n",
       "\n",
       ".sk-estimator-doc-link.fitted,\n",
       "a:link.sk-estimator-doc-link.fitted,\n",
       "a:visited.sk-estimator-doc-link.fitted {\n",
       "  /* fitted */\n",
       "  border: var(--sklearn-color-fitted-level-1) 1pt solid;\n",
       "  color: var(--sklearn-color-fitted-level-1);\n",
       "}\n",
       "\n",
       "/* On hover */\n",
       "div.sk-estimator:hover .sk-estimator-doc-link:hover,\n",
       ".sk-estimator-doc-link:hover,\n",
       "div.sk-label-container:hover .sk-estimator-doc-link:hover,\n",
       ".sk-estimator-doc-link:hover {\n",
       "  /* unfitted */\n",
       "  background-color: var(--sklearn-color-unfitted-level-3);\n",
       "  color: var(--sklearn-color-background);\n",
       "  text-decoration: none;\n",
       "}\n",
       "\n",
       "div.sk-estimator.fitted:hover .sk-estimator-doc-link.fitted:hover,\n",
       ".sk-estimator-doc-link.fitted:hover,\n",
       "div.sk-label-container:hover .sk-estimator-doc-link.fitted:hover,\n",
       ".sk-estimator-doc-link.fitted:hover {\n",
       "  /* fitted */\n",
       "  background-color: var(--sklearn-color-fitted-level-3);\n",
       "  color: var(--sklearn-color-background);\n",
       "  text-decoration: none;\n",
       "}\n",
       "\n",
       "/* Span, style for the box shown on hovering the info icon */\n",
       ".sk-estimator-doc-link span {\n",
       "  display: none;\n",
       "  z-index: 9999;\n",
       "  position: relative;\n",
       "  font-weight: normal;\n",
       "  right: .2ex;\n",
       "  padding: .5ex;\n",
       "  margin: .5ex;\n",
       "  width: min-content;\n",
       "  min-width: 20ex;\n",
       "  max-width: 50ex;\n",
       "  color: var(--sklearn-color-text);\n",
       "  box-shadow: 2pt 2pt 4pt #999;\n",
       "  /* unfitted */\n",
       "  background: var(--sklearn-color-unfitted-level-0);\n",
       "  border: .5pt solid var(--sklearn-color-unfitted-level-3);\n",
       "}\n",
       "\n",
       ".sk-estimator-doc-link.fitted span {\n",
       "  /* fitted */\n",
       "  background: var(--sklearn-color-fitted-level-0);\n",
       "  border: var(--sklearn-color-fitted-level-3);\n",
       "}\n",
       "\n",
       ".sk-estimator-doc-link:hover span {\n",
       "  display: block;\n",
       "}\n",
       "\n",
       "/* \"?\"-specific style due to the `<a>` HTML tag */\n",
       "\n",
       "#sk-container-id-1 a.estimator_doc_link {\n",
       "  float: right;\n",
       "  font-size: 1rem;\n",
       "  line-height: 1em;\n",
       "  font-family: monospace;\n",
       "  background-color: var(--sklearn-color-background);\n",
       "  border-radius: 1rem;\n",
       "  height: 1rem;\n",
       "  width: 1rem;\n",
       "  text-decoration: none;\n",
       "  /* unfitted */\n",
       "  color: var(--sklearn-color-unfitted-level-1);\n",
       "  border: var(--sklearn-color-unfitted-level-1) 1pt solid;\n",
       "}\n",
       "\n",
       "#sk-container-id-1 a.estimator_doc_link.fitted {\n",
       "  /* fitted */\n",
       "  border: var(--sklearn-color-fitted-level-1) 1pt solid;\n",
       "  color: var(--sklearn-color-fitted-level-1);\n",
       "}\n",
       "\n",
       "/* On hover */\n",
       "#sk-container-id-1 a.estimator_doc_link:hover {\n",
       "  /* unfitted */\n",
       "  background-color: var(--sklearn-color-unfitted-level-3);\n",
       "  color: var(--sklearn-color-background);\n",
       "  text-decoration: none;\n",
       "}\n",
       "\n",
       "#sk-container-id-1 a.estimator_doc_link.fitted:hover {\n",
       "  /* fitted */\n",
       "  background-color: var(--sklearn-color-fitted-level-3);\n",
       "}\n",
       "</style><div id=\"sk-container-id-1\" class=\"sk-top-container\"><div class=\"sk-text-repr-fallback\"><pre>RandomizedSearchCV(cv=5, estimator=GradientBoostingClassifier(random_state=42),\n",
       "                   n_iter=50, n_jobs=-1,\n",
       "                   param_distributions={&#x27;learning_rate&#x27;: [0.01, 0.05, 0.1, 0.2],\n",
       "                                        &#x27;max_depth&#x27;: [3, 5, 10, 15, None],\n",
       "                                        &#x27;max_features&#x27;: [&#x27;sqrt&#x27;, &#x27;log2&#x27;, None],\n",
       "                                        &#x27;min_samples_leaf&#x27;: [1, 2, 4, 8],\n",
       "                                        &#x27;min_samples_split&#x27;: [2, 5, 10, 15],\n",
       "                                        &#x27;n_estimators&#x27;: [50, 100, 200, 300,\n",
       "                                                         400],\n",
       "                                        &#x27;subsample&#x27;: [0.6, 0.8, 1.0]},\n",
       "                   random_state=42, scoring=&#x27;f1_weighted&#x27;, verbose=2)</pre><b>In a Jupyter environment, please rerun this cell to show the HTML representation or trust the notebook. <br />On GitHub, the HTML representation is unable to render, please try loading this page with nbviewer.org.</b></div><div class=\"sk-container\" hidden><div class=\"sk-item sk-dashed-wrapped\"><div class=\"sk-label-container\"><div class=\"sk-label fitted sk-toggleable\"><input class=\"sk-toggleable__control sk-hidden--visually\" id=\"sk-estimator-id-1\" type=\"checkbox\" ><label for=\"sk-estimator-id-1\" class=\"sk-toggleable__label fitted sk-toggleable__label-arrow fitted\">&nbsp;&nbsp;RandomizedSearchCV<a class=\"sk-estimator-doc-link fitted\" rel=\"noreferrer\" target=\"_blank\" href=\"https://scikit-learn.org/1.4/modules/generated/sklearn.model_selection.RandomizedSearchCV.html\">?<span>Documentation for RandomizedSearchCV</span></a><span class=\"sk-estimator-doc-link fitted\">i<span>Fitted</span></span></label><div class=\"sk-toggleable__content fitted\"><pre>RandomizedSearchCV(cv=5, estimator=GradientBoostingClassifier(random_state=42),\n",
       "                   n_iter=50, n_jobs=-1,\n",
       "                   param_distributions={&#x27;learning_rate&#x27;: [0.01, 0.05, 0.1, 0.2],\n",
       "                                        &#x27;max_depth&#x27;: [3, 5, 10, 15, None],\n",
       "                                        &#x27;max_features&#x27;: [&#x27;sqrt&#x27;, &#x27;log2&#x27;, None],\n",
       "                                        &#x27;min_samples_leaf&#x27;: [1, 2, 4, 8],\n",
       "                                        &#x27;min_samples_split&#x27;: [2, 5, 10, 15],\n",
       "                                        &#x27;n_estimators&#x27;: [50, 100, 200, 300,\n",
       "                                                         400],\n",
       "                                        &#x27;subsample&#x27;: [0.6, 0.8, 1.0]},\n",
       "                   random_state=42, scoring=&#x27;f1_weighted&#x27;, verbose=2)</pre></div> </div></div><div class=\"sk-parallel\"><div class=\"sk-parallel-item\"><div class=\"sk-item\"><div class=\"sk-label-container\"><div class=\"sk-label fitted sk-toggleable\"><input class=\"sk-toggleable__control sk-hidden--visually\" id=\"sk-estimator-id-2\" type=\"checkbox\" ><label for=\"sk-estimator-id-2\" class=\"sk-toggleable__label fitted sk-toggleable__label-arrow fitted\">estimator: GradientBoostingClassifier</label><div class=\"sk-toggleable__content fitted\"><pre>GradientBoostingClassifier(random_state=42)</pre></div> </div></div><div class=\"sk-serial\"><div class=\"sk-item\"><div class=\"sk-estimator fitted sk-toggleable\"><input class=\"sk-toggleable__control sk-hidden--visually\" id=\"sk-estimator-id-3\" type=\"checkbox\" ><label for=\"sk-estimator-id-3\" class=\"sk-toggleable__label fitted sk-toggleable__label-arrow fitted\">&nbsp;GradientBoostingClassifier<a class=\"sk-estimator-doc-link fitted\" rel=\"noreferrer\" target=\"_blank\" href=\"https://scikit-learn.org/1.4/modules/generated/sklearn.ensemble.GradientBoostingClassifier.html\">?<span>Documentation for GradientBoostingClassifier</span></a></label><div class=\"sk-toggleable__content fitted\"><pre>GradientBoostingClassifier(random_state=42)</pre></div> </div></div></div></div></div></div></div></div></div>"
      ],
      "text/plain": [
       "RandomizedSearchCV(cv=5, estimator=GradientBoostingClassifier(random_state=42),\n",
       "                   n_iter=50, n_jobs=-1,\n",
       "                   param_distributions={'learning_rate': [0.01, 0.05, 0.1, 0.2],\n",
       "                                        'max_depth': [3, 5, 10, 15, None],\n",
       "                                        'max_features': ['sqrt', 'log2', None],\n",
       "                                        'min_samples_leaf': [1, 2, 4, 8],\n",
       "                                        'min_samples_split': [2, 5, 10, 15],\n",
       "                                        'n_estimators': [50, 100, 200, 300,\n",
       "                                                         400],\n",
       "                                        'subsample': [0.6, 0.8, 1.0]},\n",
       "                   random_state=42, scoring='f1_weighted', verbose=2)"
      ]
     },
     "execution_count": 51,
     "metadata": {},
     "output_type": "execute_result"
    }
   ],
   "source": [
    "random_search.fit(X_train, y_train)"
   ]
  },
  {
   "cell_type": "markdown",
   "id": "f4440ddb-05ee-47a4-8138-651ec4c68880",
   "metadata": {},
   "source": [
    "#### Best parameters and score"
   ]
  },
  {
   "cell_type": "code",
   "execution_count": 52,
   "id": "102dee38-dd0f-4b08-b066-6e484eacb13b",
   "metadata": {},
   "outputs": [
    {
     "name": "stdout",
     "output_type": "stream",
     "text": [
      "Best Parameters: {'subsample': 0.8, 'n_estimators': 300, 'min_samples_split': 5, 'min_samples_leaf': 1, 'max_features': None, 'max_depth': None, 'learning_rate': 0.01}\n",
      "Best Weighted F1 Score: 0.8757629096462594\n"
     ]
    }
   ],
   "source": [
    "print(\"Best Parameters:\", random_search.best_params_)\n",
    "print(\"Best Weighted F1 Score:\", random_search.best_score_)"
   ]
  },
  {
   "cell_type": "markdown",
   "id": "80f2e0ff-2ca9-4048-8cb9-7fa23a8e0b1f",
   "metadata": {},
   "source": [
    "#### Best Model"
   ]
  },
  {
   "cell_type": "code",
   "execution_count": 53,
   "id": "631644c2-59da-4fac-9502-d44a36ae8631",
   "metadata": {},
   "outputs": [],
   "source": [
    "best_model = random_search.best_estimator_"
   ]
  },
  {
   "cell_type": "markdown",
   "id": "c7995800-bda8-47d5-b4e8-75b08dd2afe9",
   "metadata": {},
   "source": [
    "#### Evaluate the best model on the test set"
   ]
  },
  {
   "cell_type": "code",
   "execution_count": 54,
   "id": "8e3be070-c47e-48d2-9c35-a3ee0a576d91",
   "metadata": {},
   "outputs": [],
   "source": [
    "y_pred = best_model.predict(X_test)"
   ]
  },
  {
   "cell_type": "code",
   "execution_count": 55,
   "id": "7ee8ae07-424f-4cc2-bdc8-ff081cee4010",
   "metadata": {},
   "outputs": [],
   "source": [
    "accuracy = accuracy_score(y_test, y_pred)\n",
    "f1 = f1_score(y_test, y_pred, average='weighted')"
   ]
  },
  {
   "cell_type": "code",
   "execution_count": 56,
   "id": "6fd9d9a5-ee8c-41b9-b55c-23c543e02594",
   "metadata": {},
   "outputs": [
    {
     "name": "stdout",
     "output_type": "stream",
     "text": [
      "Test Accuracy: 0.8828264758497316\n",
      "Test Weighted F1 Score: 0.865075415770383\n",
      "\n",
      "Classification Report:\n",
      "               precision    recall  f1-score   support\n",
      "\n",
      "           0       0.91      0.97      0.94      1973\n",
      "           1       0.33      0.19      0.24        26\n",
      "           2       0.48      0.24      0.32       237\n",
      "\n",
      "    accuracy                           0.88      2236\n",
      "   macro avg       0.58      0.47      0.50      2236\n",
      "weighted avg       0.86      0.88      0.87      2236\n",
      "\n"
     ]
    }
   ],
   "source": [
    "print(f\"Test Accuracy: {accuracy}\")\n",
    "print(f\"Test Weighted F1 Score: {f1}\")\n",
    "print(\"\\nClassification Report:\\n\", classification_report(y_test, y_pred))"
   ]
  }
 ],
 "metadata": {
  "kernelspec": {
   "display_name": "Python 3 (ipykernel)",
   "language": "python",
   "name": "python3"
  },
  "language_info": {
   "codemirror_mode": {
    "name": "ipython",
    "version": 3
   },
   "file_extension": ".py",
   "mimetype": "text/x-python",
   "name": "python",
   "nbconvert_exporter": "python",
   "pygments_lexer": "ipython3",
   "version": "3.12.4"
  }
 },
 "nbformat": 4,
 "nbformat_minor": 5
}
